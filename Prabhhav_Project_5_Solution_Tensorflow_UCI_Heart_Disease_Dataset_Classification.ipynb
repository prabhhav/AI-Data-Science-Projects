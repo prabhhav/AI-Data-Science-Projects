{
  "nbformat": 4,
  "nbformat_minor": 0,
  "metadata": {
    "colab": {
      "name": " Prabhhav - Project 5 Solution- Tensorflow UCI Heart Disease Dataset - Classification.ipynb",
      "provenance": [],
      "collapsed_sections": [],
      "include_colab_link": true
    },
    "kernelspec": {
      "name": "python3",
      "display_name": "Python 3"
    },
    "accelerator": "GPU"
  },
  "cells": [
    {
      "cell_type": "markdown",
      "metadata": {
        "id": "view-in-github",
        "colab_type": "text"
      },
      "source": [
        "<a href=\"https://colab.research.google.com/github/prabhhav/AI-Data-Science-Projects/blob/main/Prabhhav_Project_5_Solution_Tensorflow_UCI_Heart_Disease_Dataset_Classification.ipynb\" target=\"_parent\"><img src=\"https://colab.research.google.com/assets/colab-badge.svg\" alt=\"Open In Colab\"/></a>"
      ]
    },
    {
      "cell_type": "markdown",
      "metadata": {
        "id": "voz6GrFXGKSF"
      },
      "source": [
        "This database contains 76 attributes, but all published experiments refer to using a subset of 14 of them. In particular, the Cleveland database is the only one that has been used by ML researchers to\n",
        "this date. The \"goal\" field refers to the presence of heart disease in the patient. It is integer valued from 0 (no presence) to 4. Experiments with the Cleveland database have concentrated on simply attempting to distinguish presence (values 1,2,3,4) from absence (value 0).\n",
        "\n",
        "The names and social security numbers of the patients were recently removed from the database, replaced with dummy values.\n",
        "\n",
        "One file has been \"processed\", that one containing the Cleveland database. All four unprocessed files also exist in this directory.\n",
        "\n",
        "To see Test Costs (donated by Peter Turney), please see the folder \"Costs\".\n",
        "\n",
        "For more information refer here\n",
        "\n",
        "https://archive.ics.uci.edu/ml/datasets/heart+disease"
      ]
    },
    {
      "cell_type": "code",
      "metadata": {
        "id": "3Kg-DqTkGLH1"
      },
      "source": [
        "import numpy as np\n",
        "import pandas as pd\n",
        "import matplotlib.pyplot as plt\n",
        "import seaborn as sns\n",
        "import tensorflow as tf\n"
      ],
      "execution_count": null,
      "outputs": []
    },
    {
      "cell_type": "code",
      "metadata": {
        "id": "0O4xHY5QG0ra"
      },
      "source": [
        "df = pd.read_csv(\"https://raw.githubusercontent.com/nunnarilabs/ml/master/heart.csv\")"
      ],
      "execution_count": null,
      "outputs": []
    },
    {
      "cell_type": "code",
      "metadata": {
        "id": "mWFZFV_lG5p9",
        "colab": {
          "base_uri": "https://localhost:8080/",
          "height": 204
        },
        "outputId": "55b9ab4f-bb24-4579-a99e-dc6cd9e78317"
      },
      "source": [
        "df.head()"
      ],
      "execution_count": null,
      "outputs": [
        {
          "output_type": "execute_result",
          "data": {
            "text/html": [
              "<div>\n",
              "<style scoped>\n",
              "    .dataframe tbody tr th:only-of-type {\n",
              "        vertical-align: middle;\n",
              "    }\n",
              "\n",
              "    .dataframe tbody tr th {\n",
              "        vertical-align: top;\n",
              "    }\n",
              "\n",
              "    .dataframe thead th {\n",
              "        text-align: right;\n",
              "    }\n",
              "</style>\n",
              "<table border=\"1\" class=\"dataframe\">\n",
              "  <thead>\n",
              "    <tr style=\"text-align: right;\">\n",
              "      <th></th>\n",
              "      <th>age</th>\n",
              "      <th>sex</th>\n",
              "      <th>cp</th>\n",
              "      <th>trestbps</th>\n",
              "      <th>chol</th>\n",
              "      <th>fbs</th>\n",
              "      <th>restecg</th>\n",
              "      <th>thalach</th>\n",
              "      <th>exang</th>\n",
              "      <th>oldpeak</th>\n",
              "      <th>slope</th>\n",
              "      <th>ca</th>\n",
              "      <th>thal</th>\n",
              "      <th>target</th>\n",
              "    </tr>\n",
              "  </thead>\n",
              "  <tbody>\n",
              "    <tr>\n",
              "      <th>0</th>\n",
              "      <td>63</td>\n",
              "      <td>1</td>\n",
              "      <td>3</td>\n",
              "      <td>145</td>\n",
              "      <td>233</td>\n",
              "      <td>1</td>\n",
              "      <td>0</td>\n",
              "      <td>150</td>\n",
              "      <td>0</td>\n",
              "      <td>2.3</td>\n",
              "      <td>0</td>\n",
              "      <td>0</td>\n",
              "      <td>1</td>\n",
              "      <td>1</td>\n",
              "    </tr>\n",
              "    <tr>\n",
              "      <th>1</th>\n",
              "      <td>37</td>\n",
              "      <td>1</td>\n",
              "      <td>2</td>\n",
              "      <td>130</td>\n",
              "      <td>250</td>\n",
              "      <td>0</td>\n",
              "      <td>1</td>\n",
              "      <td>187</td>\n",
              "      <td>0</td>\n",
              "      <td>3.5</td>\n",
              "      <td>0</td>\n",
              "      <td>0</td>\n",
              "      <td>2</td>\n",
              "      <td>1</td>\n",
              "    </tr>\n",
              "    <tr>\n",
              "      <th>2</th>\n",
              "      <td>41</td>\n",
              "      <td>0</td>\n",
              "      <td>1</td>\n",
              "      <td>130</td>\n",
              "      <td>204</td>\n",
              "      <td>0</td>\n",
              "      <td>0</td>\n",
              "      <td>172</td>\n",
              "      <td>0</td>\n",
              "      <td>1.4</td>\n",
              "      <td>2</td>\n",
              "      <td>0</td>\n",
              "      <td>2</td>\n",
              "      <td>1</td>\n",
              "    </tr>\n",
              "    <tr>\n",
              "      <th>3</th>\n",
              "      <td>56</td>\n",
              "      <td>1</td>\n",
              "      <td>1</td>\n",
              "      <td>120</td>\n",
              "      <td>236</td>\n",
              "      <td>0</td>\n",
              "      <td>1</td>\n",
              "      <td>178</td>\n",
              "      <td>0</td>\n",
              "      <td>0.8</td>\n",
              "      <td>2</td>\n",
              "      <td>0</td>\n",
              "      <td>2</td>\n",
              "      <td>1</td>\n",
              "    </tr>\n",
              "    <tr>\n",
              "      <th>4</th>\n",
              "      <td>57</td>\n",
              "      <td>0</td>\n",
              "      <td>0</td>\n",
              "      <td>120</td>\n",
              "      <td>354</td>\n",
              "      <td>0</td>\n",
              "      <td>1</td>\n",
              "      <td>163</td>\n",
              "      <td>1</td>\n",
              "      <td>0.6</td>\n",
              "      <td>2</td>\n",
              "      <td>0</td>\n",
              "      <td>2</td>\n",
              "      <td>1</td>\n",
              "    </tr>\n",
              "  </tbody>\n",
              "</table>\n",
              "</div>"
            ],
            "text/plain": [
              "   age  sex  cp  trestbps  chol  fbs  ...  exang  oldpeak  slope  ca  thal  target\n",
              "0   63    1   3       145   233    1  ...      0      2.3      0   0     1       1\n",
              "1   37    1   2       130   250    0  ...      0      3.5      0   0     2       1\n",
              "2   41    0   1       130   204    0  ...      0      1.4      2   0     2       1\n",
              "3   56    1   1       120   236    0  ...      0      0.8      2   0     2       1\n",
              "4   57    0   0       120   354    0  ...      1      0.6      2   0     2       1\n",
              "\n",
              "[5 rows x 14 columns]"
            ]
          },
          "metadata": {
            "tags": []
          },
          "execution_count": 112
        }
      ]
    },
    {
      "cell_type": "code",
      "metadata": {
        "id": "MqGiCmt2G65p",
        "colab": {
          "base_uri": "https://localhost:8080/"
        },
        "outputId": "920db21e-673d-4e0f-cc3b-487f27593b65"
      },
      "source": [
        "df.shape"
      ],
      "execution_count": null,
      "outputs": [
        {
          "output_type": "execute_result",
          "data": {
            "text/plain": [
              "(303, 14)"
            ]
          },
          "metadata": {
            "tags": []
          },
          "execution_count": 113
        }
      ]
    },
    {
      "cell_type": "code",
      "metadata": {
        "id": "B8CCC0TTHtYN",
        "colab": {
          "base_uri": "https://localhost:8080/"
        },
        "outputId": "c3afb512-aff0-4293-bfce-7b8def52dd79"
      },
      "source": [
        "df.info()"
      ],
      "execution_count": null,
      "outputs": [
        {
          "output_type": "stream",
          "text": [
            "<class 'pandas.core.frame.DataFrame'>\n",
            "RangeIndex: 303 entries, 0 to 302\n",
            "Data columns (total 14 columns):\n",
            " #   Column    Non-Null Count  Dtype  \n",
            "---  ------    --------------  -----  \n",
            " 0   age       303 non-null    int64  \n",
            " 1   sex       303 non-null    int64  \n",
            " 2   cp        303 non-null    int64  \n",
            " 3   trestbps  303 non-null    int64  \n",
            " 4   chol      303 non-null    int64  \n",
            " 5   fbs       303 non-null    int64  \n",
            " 6   restecg   303 non-null    int64  \n",
            " 7   thalach   303 non-null    int64  \n",
            " 8   exang     303 non-null    int64  \n",
            " 9   oldpeak   303 non-null    float64\n",
            " 10  slope     303 non-null    int64  \n",
            " 11  ca        303 non-null    int64  \n",
            " 12  thal      303 non-null    int64  \n",
            " 13  target    303 non-null    int64  \n",
            "dtypes: float64(1), int64(13)\n",
            "memory usage: 33.3 KB\n"
          ],
          "name": "stdout"
        }
      ]
    },
    {
      "cell_type": "code",
      "metadata": {
        "colab": {
          "base_uri": "https://localhost:8080/"
        },
        "id": "vlYodrkTR5UG",
        "outputId": "87e64e10-12ce-4414-a05e-eb529ce7e708"
      },
      "source": [
        "df.isnull().sum()"
      ],
      "execution_count": null,
      "outputs": [
        {
          "output_type": "execute_result",
          "data": {
            "text/plain": [
              "age         0\n",
              "sex         0\n",
              "cp          0\n",
              "trestbps    0\n",
              "chol        0\n",
              "fbs         0\n",
              "restecg     0\n",
              "thalach     0\n",
              "exang       0\n",
              "oldpeak     0\n",
              "slope       0\n",
              "ca          0\n",
              "thal        0\n",
              "target      0\n",
              "dtype: int64"
            ]
          },
          "metadata": {
            "tags": []
          },
          "execution_count": 115
        }
      ]
    },
    {
      "cell_type": "code",
      "metadata": {
        "colab": {
          "base_uri": "https://localhost:8080/",
          "height": 483
        },
        "id": "-apc4kTpR-aE",
        "outputId": "66a49fb2-663e-4cb1-fabc-9cda56964ef7"
      },
      "source": [
        "df.corr()"
      ],
      "execution_count": null,
      "outputs": [
        {
          "output_type": "execute_result",
          "data": {
            "text/html": [
              "<div>\n",
              "<style scoped>\n",
              "    .dataframe tbody tr th:only-of-type {\n",
              "        vertical-align: middle;\n",
              "    }\n",
              "\n",
              "    .dataframe tbody tr th {\n",
              "        vertical-align: top;\n",
              "    }\n",
              "\n",
              "    .dataframe thead th {\n",
              "        text-align: right;\n",
              "    }\n",
              "</style>\n",
              "<table border=\"1\" class=\"dataframe\">\n",
              "  <thead>\n",
              "    <tr style=\"text-align: right;\">\n",
              "      <th></th>\n",
              "      <th>age</th>\n",
              "      <th>sex</th>\n",
              "      <th>cp</th>\n",
              "      <th>trestbps</th>\n",
              "      <th>chol</th>\n",
              "      <th>fbs</th>\n",
              "      <th>restecg</th>\n",
              "      <th>thalach</th>\n",
              "      <th>exang</th>\n",
              "      <th>oldpeak</th>\n",
              "      <th>slope</th>\n",
              "      <th>ca</th>\n",
              "      <th>thal</th>\n",
              "      <th>target</th>\n",
              "    </tr>\n",
              "  </thead>\n",
              "  <tbody>\n",
              "    <tr>\n",
              "      <th>age</th>\n",
              "      <td>1.000000</td>\n",
              "      <td>-0.098447</td>\n",
              "      <td>-0.068653</td>\n",
              "      <td>0.279351</td>\n",
              "      <td>0.213678</td>\n",
              "      <td>0.121308</td>\n",
              "      <td>-0.116211</td>\n",
              "      <td>-0.398522</td>\n",
              "      <td>0.096801</td>\n",
              "      <td>0.210013</td>\n",
              "      <td>-0.168814</td>\n",
              "      <td>0.276326</td>\n",
              "      <td>0.068001</td>\n",
              "      <td>-0.225439</td>\n",
              "    </tr>\n",
              "    <tr>\n",
              "      <th>sex</th>\n",
              "      <td>-0.098447</td>\n",
              "      <td>1.000000</td>\n",
              "      <td>-0.049353</td>\n",
              "      <td>-0.056769</td>\n",
              "      <td>-0.197912</td>\n",
              "      <td>0.045032</td>\n",
              "      <td>-0.058196</td>\n",
              "      <td>-0.044020</td>\n",
              "      <td>0.141664</td>\n",
              "      <td>0.096093</td>\n",
              "      <td>-0.030711</td>\n",
              "      <td>0.118261</td>\n",
              "      <td>0.210041</td>\n",
              "      <td>-0.280937</td>\n",
              "    </tr>\n",
              "    <tr>\n",
              "      <th>cp</th>\n",
              "      <td>-0.068653</td>\n",
              "      <td>-0.049353</td>\n",
              "      <td>1.000000</td>\n",
              "      <td>0.047608</td>\n",
              "      <td>-0.076904</td>\n",
              "      <td>0.094444</td>\n",
              "      <td>0.044421</td>\n",
              "      <td>0.295762</td>\n",
              "      <td>-0.394280</td>\n",
              "      <td>-0.149230</td>\n",
              "      <td>0.119717</td>\n",
              "      <td>-0.181053</td>\n",
              "      <td>-0.161736</td>\n",
              "      <td>0.433798</td>\n",
              "    </tr>\n",
              "    <tr>\n",
              "      <th>trestbps</th>\n",
              "      <td>0.279351</td>\n",
              "      <td>-0.056769</td>\n",
              "      <td>0.047608</td>\n",
              "      <td>1.000000</td>\n",
              "      <td>0.123174</td>\n",
              "      <td>0.177531</td>\n",
              "      <td>-0.114103</td>\n",
              "      <td>-0.046698</td>\n",
              "      <td>0.067616</td>\n",
              "      <td>0.193216</td>\n",
              "      <td>-0.121475</td>\n",
              "      <td>0.101389</td>\n",
              "      <td>0.062210</td>\n",
              "      <td>-0.144931</td>\n",
              "    </tr>\n",
              "    <tr>\n",
              "      <th>chol</th>\n",
              "      <td>0.213678</td>\n",
              "      <td>-0.197912</td>\n",
              "      <td>-0.076904</td>\n",
              "      <td>0.123174</td>\n",
              "      <td>1.000000</td>\n",
              "      <td>0.013294</td>\n",
              "      <td>-0.151040</td>\n",
              "      <td>-0.009940</td>\n",
              "      <td>0.067023</td>\n",
              "      <td>0.053952</td>\n",
              "      <td>-0.004038</td>\n",
              "      <td>0.070511</td>\n",
              "      <td>0.098803</td>\n",
              "      <td>-0.085239</td>\n",
              "    </tr>\n",
              "    <tr>\n",
              "      <th>fbs</th>\n",
              "      <td>0.121308</td>\n",
              "      <td>0.045032</td>\n",
              "      <td>0.094444</td>\n",
              "      <td>0.177531</td>\n",
              "      <td>0.013294</td>\n",
              "      <td>1.000000</td>\n",
              "      <td>-0.084189</td>\n",
              "      <td>-0.008567</td>\n",
              "      <td>0.025665</td>\n",
              "      <td>0.005747</td>\n",
              "      <td>-0.059894</td>\n",
              "      <td>0.137979</td>\n",
              "      <td>-0.032019</td>\n",
              "      <td>-0.028046</td>\n",
              "    </tr>\n",
              "    <tr>\n",
              "      <th>restecg</th>\n",
              "      <td>-0.116211</td>\n",
              "      <td>-0.058196</td>\n",
              "      <td>0.044421</td>\n",
              "      <td>-0.114103</td>\n",
              "      <td>-0.151040</td>\n",
              "      <td>-0.084189</td>\n",
              "      <td>1.000000</td>\n",
              "      <td>0.044123</td>\n",
              "      <td>-0.070733</td>\n",
              "      <td>-0.058770</td>\n",
              "      <td>0.093045</td>\n",
              "      <td>-0.072042</td>\n",
              "      <td>-0.011981</td>\n",
              "      <td>0.137230</td>\n",
              "    </tr>\n",
              "    <tr>\n",
              "      <th>thalach</th>\n",
              "      <td>-0.398522</td>\n",
              "      <td>-0.044020</td>\n",
              "      <td>0.295762</td>\n",
              "      <td>-0.046698</td>\n",
              "      <td>-0.009940</td>\n",
              "      <td>-0.008567</td>\n",
              "      <td>0.044123</td>\n",
              "      <td>1.000000</td>\n",
              "      <td>-0.378812</td>\n",
              "      <td>-0.344187</td>\n",
              "      <td>0.386784</td>\n",
              "      <td>-0.213177</td>\n",
              "      <td>-0.096439</td>\n",
              "      <td>0.421741</td>\n",
              "    </tr>\n",
              "    <tr>\n",
              "      <th>exang</th>\n",
              "      <td>0.096801</td>\n",
              "      <td>0.141664</td>\n",
              "      <td>-0.394280</td>\n",
              "      <td>0.067616</td>\n",
              "      <td>0.067023</td>\n",
              "      <td>0.025665</td>\n",
              "      <td>-0.070733</td>\n",
              "      <td>-0.378812</td>\n",
              "      <td>1.000000</td>\n",
              "      <td>0.288223</td>\n",
              "      <td>-0.257748</td>\n",
              "      <td>0.115739</td>\n",
              "      <td>0.206754</td>\n",
              "      <td>-0.436757</td>\n",
              "    </tr>\n",
              "    <tr>\n",
              "      <th>oldpeak</th>\n",
              "      <td>0.210013</td>\n",
              "      <td>0.096093</td>\n",
              "      <td>-0.149230</td>\n",
              "      <td>0.193216</td>\n",
              "      <td>0.053952</td>\n",
              "      <td>0.005747</td>\n",
              "      <td>-0.058770</td>\n",
              "      <td>-0.344187</td>\n",
              "      <td>0.288223</td>\n",
              "      <td>1.000000</td>\n",
              "      <td>-0.577537</td>\n",
              "      <td>0.222682</td>\n",
              "      <td>0.210244</td>\n",
              "      <td>-0.430696</td>\n",
              "    </tr>\n",
              "    <tr>\n",
              "      <th>slope</th>\n",
              "      <td>-0.168814</td>\n",
              "      <td>-0.030711</td>\n",
              "      <td>0.119717</td>\n",
              "      <td>-0.121475</td>\n",
              "      <td>-0.004038</td>\n",
              "      <td>-0.059894</td>\n",
              "      <td>0.093045</td>\n",
              "      <td>0.386784</td>\n",
              "      <td>-0.257748</td>\n",
              "      <td>-0.577537</td>\n",
              "      <td>1.000000</td>\n",
              "      <td>-0.080155</td>\n",
              "      <td>-0.104764</td>\n",
              "      <td>0.345877</td>\n",
              "    </tr>\n",
              "    <tr>\n",
              "      <th>ca</th>\n",
              "      <td>0.276326</td>\n",
              "      <td>0.118261</td>\n",
              "      <td>-0.181053</td>\n",
              "      <td>0.101389</td>\n",
              "      <td>0.070511</td>\n",
              "      <td>0.137979</td>\n",
              "      <td>-0.072042</td>\n",
              "      <td>-0.213177</td>\n",
              "      <td>0.115739</td>\n",
              "      <td>0.222682</td>\n",
              "      <td>-0.080155</td>\n",
              "      <td>1.000000</td>\n",
              "      <td>0.151832</td>\n",
              "      <td>-0.391724</td>\n",
              "    </tr>\n",
              "    <tr>\n",
              "      <th>thal</th>\n",
              "      <td>0.068001</td>\n",
              "      <td>0.210041</td>\n",
              "      <td>-0.161736</td>\n",
              "      <td>0.062210</td>\n",
              "      <td>0.098803</td>\n",
              "      <td>-0.032019</td>\n",
              "      <td>-0.011981</td>\n",
              "      <td>-0.096439</td>\n",
              "      <td>0.206754</td>\n",
              "      <td>0.210244</td>\n",
              "      <td>-0.104764</td>\n",
              "      <td>0.151832</td>\n",
              "      <td>1.000000</td>\n",
              "      <td>-0.344029</td>\n",
              "    </tr>\n",
              "    <tr>\n",
              "      <th>target</th>\n",
              "      <td>-0.225439</td>\n",
              "      <td>-0.280937</td>\n",
              "      <td>0.433798</td>\n",
              "      <td>-0.144931</td>\n",
              "      <td>-0.085239</td>\n",
              "      <td>-0.028046</td>\n",
              "      <td>0.137230</td>\n",
              "      <td>0.421741</td>\n",
              "      <td>-0.436757</td>\n",
              "      <td>-0.430696</td>\n",
              "      <td>0.345877</td>\n",
              "      <td>-0.391724</td>\n",
              "      <td>-0.344029</td>\n",
              "      <td>1.000000</td>\n",
              "    </tr>\n",
              "  </tbody>\n",
              "</table>\n",
              "</div>"
            ],
            "text/plain": [
              "               age       sex        cp  ...        ca      thal    target\n",
              "age       1.000000 -0.098447 -0.068653  ...  0.276326  0.068001 -0.225439\n",
              "sex      -0.098447  1.000000 -0.049353  ...  0.118261  0.210041 -0.280937\n",
              "cp       -0.068653 -0.049353  1.000000  ... -0.181053 -0.161736  0.433798\n",
              "trestbps  0.279351 -0.056769  0.047608  ...  0.101389  0.062210 -0.144931\n",
              "chol      0.213678 -0.197912 -0.076904  ...  0.070511  0.098803 -0.085239\n",
              "fbs       0.121308  0.045032  0.094444  ...  0.137979 -0.032019 -0.028046\n",
              "restecg  -0.116211 -0.058196  0.044421  ... -0.072042 -0.011981  0.137230\n",
              "thalach  -0.398522 -0.044020  0.295762  ... -0.213177 -0.096439  0.421741\n",
              "exang     0.096801  0.141664 -0.394280  ...  0.115739  0.206754 -0.436757\n",
              "oldpeak   0.210013  0.096093 -0.149230  ...  0.222682  0.210244 -0.430696\n",
              "slope    -0.168814 -0.030711  0.119717  ... -0.080155 -0.104764  0.345877\n",
              "ca        0.276326  0.118261 -0.181053  ...  1.000000  0.151832 -0.391724\n",
              "thal      0.068001  0.210041 -0.161736  ...  0.151832  1.000000 -0.344029\n",
              "target   -0.225439 -0.280937  0.433798  ... -0.391724 -0.344029  1.000000\n",
              "\n",
              "[14 rows x 14 columns]"
            ]
          },
          "metadata": {
            "tags": []
          },
          "execution_count": 116
        }
      ]
    },
    {
      "cell_type": "code",
      "metadata": {
        "colab": {
          "base_uri": "https://localhost:8080/"
        },
        "id": "9dcc9oauSHby",
        "outputId": "0703bc32-4f60-41f3-e8cd-14f5b4b09102"
      },
      "source": [
        "df['thal'].unique()"
      ],
      "execution_count": null,
      "outputs": [
        {
          "output_type": "execute_result",
          "data": {
            "text/plain": [
              "array([1, 2, 3, 0])"
            ]
          },
          "metadata": {
            "tags": []
          },
          "execution_count": 117
        }
      ]
    },
    {
      "cell_type": "code",
      "metadata": {
        "colab": {
          "base_uri": "https://localhost:8080/",
          "height": 884
        },
        "id": "mpnMIULESNYg",
        "outputId": "71f05166-5849-4239-c704-130fe7e98e1b"
      },
      "source": [
        "import seaborn as sns\r\n",
        "plt.figure(figsize=(15,15))\r\n",
        "sns.heatmap(df.corr(), annot = True)"
      ],
      "execution_count": null,
      "outputs": [
        {
          "output_type": "execute_result",
          "data": {
            "text/plain": [
              "<matplotlib.axes._subplots.AxesSubplot at 0x7f789a64ae10>"
            ]
          },
          "metadata": {
            "tags": []
          },
          "execution_count": 118
        },
        {
          "output_type": "display_data",
          "data": {
            "image/png": "[encoded data removed]",
            "text/plain": [
              "<Figure size 1080x1080 with 2 Axes>"
            ]
          },
          "metadata": {
            "tags": [],
            "needs_background": "light"
          }
        }
      ]
    },
    {
      "cell_type": "code",
      "metadata": {
        "id": "R2R-fpHHSdGr"
      },
      "source": [
        "array = df.values\r\n",
        "X = array[:,0:13]\r\n",
        "y = array[:,13]"
      ],
      "execution_count": null,
      "outputs": []
    },
    {
      "cell_type": "code",
      "metadata": {
        "colab": {
          "base_uri": "https://localhost:8080/"
        },
        "id": "JorJ9QwTSufn",
        "outputId": "6df415e4-e9dc-436e-c73a-fce637d60856"
      },
      "source": [
        "X"
      ],
      "execution_count": null,
      "outputs": [
        {
          "output_type": "execute_result",
          "data": {
            "text/plain": [
              "array([[63.,  1.,  3., ...,  0.,  0.,  1.],\n",
              "       [37.,  1.,  2., ...,  0.,  0.,  2.],\n",
              "       [41.,  0.,  1., ...,  2.,  0.,  2.],\n",
              "       ...,\n",
              "       [68.,  1.,  0., ...,  1.,  2.,  3.],\n",
              "       [57.,  1.,  0., ...,  1.,  1.,  3.],\n",
              "       [57.,  0.,  1., ...,  1.,  1.,  2.]])"
            ]
          },
          "metadata": {
            "tags": []
          },
          "execution_count": 120
        }
      ]
    },
    {
      "cell_type": "code",
      "metadata": {
        "colab": {
          "base_uri": "https://localhost:8080/"
        },
        "id": "NUzg9oIOSwmB",
        "outputId": "02a81a75-f869-4f9f-cf97-cd1509fd2c57"
      },
      "source": [
        "y"
      ],
      "execution_count": null,
      "outputs": [
        {
          "output_type": "execute_result",
          "data": {
            "text/plain": [
              "array([1., 1., 1., 1., 1., 1., 1., 1., 1., 1., 1., 1., 1., 1., 1., 1., 1.,\n",
              "       1., 1., 1., 1., 1., 1., 1., 1., 1., 1., 1., 1., 1., 1., 1., 1., 1.,\n",
              "       1., 1., 1., 1., 1., 1., 1., 1., 1., 1., 1., 1., 1., 1., 1., 1., 1.,\n",
              "       1., 1., 1., 1., 1., 1., 1., 1., 1., 1., 1., 1., 1., 1., 1., 1., 1.,\n",
              "       1., 1., 1., 1., 1., 1., 1., 1., 1., 1., 1., 1., 1., 1., 1., 1., 1.,\n",
              "       1., 1., 1., 1., 1., 1., 1., 1., 1., 1., 1., 1., 1., 1., 1., 1., 1.,\n",
              "       1., 1., 1., 1., 1., 1., 1., 1., 1., 1., 1., 1., 1., 1., 1., 1., 1.,\n",
              "       1., 1., 1., 1., 1., 1., 1., 1., 1., 1., 1., 1., 1., 1., 1., 1., 1.,\n",
              "       1., 1., 1., 1., 1., 1., 1., 1., 1., 1., 1., 1., 1., 1., 1., 1., 1.,\n",
              "       1., 1., 1., 1., 1., 1., 1., 1., 1., 1., 1., 1., 0., 0., 0., 0., 0.,\n",
              "       0., 0., 0., 0., 0., 0., 0., 0., 0., 0., 0., 0., 0., 0., 0., 0., 0.,\n",
              "       0., 0., 0., 0., 0., 0., 0., 0., 0., 0., 0., 0., 0., 0., 0., 0., 0.,\n",
              "       0., 0., 0., 0., 0., 0., 0., 0., 0., 0., 0., 0., 0., 0., 0., 0., 0.,\n",
              "       0., 0., 0., 0., 0., 0., 0., 0., 0., 0., 0., 0., 0., 0., 0., 0., 0.,\n",
              "       0., 0., 0., 0., 0., 0., 0., 0., 0., 0., 0., 0., 0., 0., 0., 0., 0.,\n",
              "       0., 0., 0., 0., 0., 0., 0., 0., 0., 0., 0., 0., 0., 0., 0., 0., 0.,\n",
              "       0., 0., 0., 0., 0., 0., 0., 0., 0., 0., 0., 0., 0., 0., 0., 0., 0.,\n",
              "       0., 0., 0., 0., 0., 0., 0., 0., 0., 0., 0., 0., 0., 0.])"
            ]
          },
          "metadata": {
            "tags": []
          },
          "execution_count": 121
        }
      ]
    },
    {
      "cell_type": "code",
      "metadata": {
        "id": "7Erar_dlXHfG"
      },
      "source": [
        "X = np.array(df.drop(['target'], axis=1))\r\n",
        "y = np.array(df['target'])"
      ],
      "execution_count": null,
      "outputs": []
    },
    {
      "cell_type": "code",
      "metadata": {
        "colab": {
          "base_uri": "https://localhost:8080/"
        },
        "id": "wvou9vMwZUZd",
        "outputId": "83bb1e9e-794e-4571-ae47-be97866b7efe"
      },
      "source": [
        "X.shape"
      ],
      "execution_count": null,
      "outputs": [
        {
          "output_type": "execute_result",
          "data": {
            "text/plain": [
              "(303, 13)"
            ]
          },
          "metadata": {
            "tags": []
          },
          "execution_count": 123
        }
      ]
    },
    {
      "cell_type": "code",
      "metadata": {
        "colab": {
          "base_uri": "https://localhost:8080/"
        },
        "id": "GXofO2pMZaq-",
        "outputId": "a81f8b70-d6f1-4358-ca2b-a5436dec45bb"
      },
      "source": [
        "X[0]"
      ],
      "execution_count": null,
      "outputs": [
        {
          "output_type": "execute_result",
          "data": {
            "text/plain": [
              "array([ 63. ,   1. ,   3. , 145. , 233. ,   1. ,   0. , 150. ,   0. ,\n",
              "         2.3,   0. ,   0. ,   1. ])"
            ]
          },
          "metadata": {
            "tags": []
          },
          "execution_count": 124
        }
      ]
    },
    {
      "cell_type": "code",
      "metadata": {
        "colab": {
          "base_uri": "https://localhost:8080/"
        },
        "id": "BcfzfrxLZ-fu",
        "outputId": "5a9f4bf5-3465-4013-df91-351a3f45a067"
      },
      "source": [
        "y.shape"
      ],
      "execution_count": null,
      "outputs": [
        {
          "output_type": "execute_result",
          "data": {
            "text/plain": [
              "(303,)"
            ]
          },
          "metadata": {
            "tags": []
          },
          "execution_count": 125
        }
      ]
    },
    {
      "cell_type": "code",
      "metadata": {
        "id": "siwkkw0FS0CS"
      },
      "source": [
        "from sklearn.model_selection import train_test_split"
      ],
      "execution_count": null,
      "outputs": []
    },
    {
      "cell_type": "code",
      "metadata": {
        "id": "btphvfEPS9SF"
      },
      "source": [
        "X_train, X_validation, Y_train, Y_validation = train_test_split(X,y,test_size=0.20, random_state=1)"
      ],
      "execution_count": null,
      "outputs": []
    },
    {
      "cell_type": "code",
      "metadata": {
        "id": "1CVFqBV_jjdx"
      },
      "source": [
        "X_train,X_test,Y_train,Y_test  = train_test_split(X,y, test_size= 0.2)"
      ],
      "execution_count": null,
      "outputs": []
    },
    {
      "cell_type": "code",
      "metadata": {
        "colab": {
          "base_uri": "https://localhost:8080/"
        },
        "id": "nmx7aE68b7rX",
        "outputId": "debdcbba-db9a-4f12-d2c6-af70fe80606c"
      },
      "source": [
        "X_train.shape"
      ],
      "execution_count": null,
      "outputs": [
        {
          "output_type": "execute_result",
          "data": {
            "text/plain": [
              "(242, 13)"
            ]
          },
          "metadata": {
            "tags": []
          },
          "execution_count": 129
        }
      ]
    },
    {
      "cell_type": "code",
      "metadata": {
        "colab": {
          "base_uri": "https://localhost:8080/"
        },
        "id": "pP71hBvGb-n-",
        "outputId": "fd9c5d56-4b21-4a41-e46e-42261bbcbac5"
      },
      "source": [
        "X_test.shape"
      ],
      "execution_count": null,
      "outputs": [
        {
          "output_type": "execute_result",
          "data": {
            "text/plain": [
              "(61, 13)"
            ]
          },
          "metadata": {
            "tags": []
          },
          "execution_count": 130
        }
      ]
    },
    {
      "cell_type": "code",
      "metadata": {
        "colab": {
          "base_uri": "https://localhost:8080/"
        },
        "id": "4qBOfphUcG0j",
        "outputId": "5d5e8980-f22c-4deb-dd14-5302e0d9416e"
      },
      "source": [
        "# convert the data to categorical labels\r\n",
        "#from keras.utils.np_utils import to_categorical\r\n",
        "\r\n",
        "#Y_train = to_categorical(Y_train, num_classes=None)\r\n",
        "#Y_test = to_categorical(Y_test, num_classes=None)\r\n",
        "#print(Y_train.shape)\r\n",
        "#print (Y_train[:10])"
      ],
      "execution_count": null,
      "outputs": [
        {
          "output_type": "stream",
          "text": [
            "(242, 2)\n",
            "[[1. 0.]\n",
            " [1. 0.]\n",
            " [0. 1.]\n",
            " [0. 1.]\n",
            " [1. 0.]\n",
            " [0. 1.]\n",
            " [1. 0.]\n",
            " [0. 1.]\n",
            " [0. 1.]\n",
            " [1. 0.]]\n"
          ],
          "name": "stdout"
        }
      ]
    },
    {
      "cell_type": "markdown",
      "metadata": {
        "id": "LF78_6cpd9JR"
      },
      "source": [
        "Neural Network"
      ]
    },
    {
      "cell_type": "code",
      "metadata": {
        "id": "3WRfYtAbeI8a"
      },
      "source": [
        "#from keras.models import Sequential\r\n",
        "#from keras.layers import Dense\r\n",
        "#from keras.optimizers import Adam\r\n",
        "#from keras.layers import Dropout\r\n",
        "#from keras import regularizers"
      ],
      "execution_count": null,
      "outputs": []
    },
    {
      "cell_type": "code",
      "metadata": {
        "id": "DKykNT3cgmqg"
      },
      "source": [
        "#Model Building\r\n",
        "#l0 = tf.keras.layers.Dense(units=32, input_shape=[3], activation='relu')\r\n",
        "#l1 = tf.keras.layers.Dense(units=32, activation='relu')\r\n",
        "#l2 = tf.keras.layers.Dense(units=2, activation='softmax')\r\n",
        "\r\n",
        "#model = tf.keras.Sequential([l0, l1, l2])\r\n",
        "\r\n",
        "#Training\r\n",
        "\r\n",
        "\r\n",
        "#model.compile(loss='mean_squared_error',  optimizer=tf.keras.optimizers.Adam(0.1))\r\n",
        "             \r\n",
        "#history = model.fit(X_train, Y_train, epochs=500, verbose=False)\r\n",
        "\r\n",
        "#Predict\r\n",
        "#model.predict(X)"
      ],
      "execution_count": null,
      "outputs": []
    },
    {
      "cell_type": "code",
      "metadata": {
        "colab": {
          "base_uri": "https://localhost:8080/"
        },
        "id": "-0H2kdY5lS6i",
        "outputId": "6e12a1d6-eece-4bc3-b199-f087aa9ed8f2"
      },
      "source": [
        ""
      ],
      "execution_count": null,
      "outputs": [
        {
          "output_type": "stream",
          "text": [
            "Epoch 1/50\n",
            "25/25 [==============================] - 2s 13ms/step - loss: 0.8040 - accuracy: 0.5014 - val_loss: 0.6960 - val_accuracy: 0.5246\n",
            "Epoch 2/50\n",
            "25/25 [==============================] - 0s 5ms/step - loss: 0.7050 - accuracy: 0.5219 - val_loss: 0.6754 - val_accuracy: 0.5902\n",
            "Epoch 3/50\n",
            "25/25 [==============================] - 0s 5ms/step - loss: 0.6865 - accuracy: 0.5289 - val_loss: 0.6736 - val_accuracy: 0.5246\n",
            "Epoch 4/50\n",
            "25/25 [==============================] - 0s 5ms/step - loss: 0.6763 - accuracy: 0.5487 - val_loss: 0.6888 - val_accuracy: 0.4918\n",
            "Epoch 5/50\n",
            "25/25 [==============================] - 0s 5ms/step - loss: 0.7036 - accuracy: 0.5616 - val_loss: 0.6639 - val_accuracy: 0.6393\n",
            "Epoch 6/50\n",
            "25/25 [==============================] - 0s 5ms/step - loss: 0.6653 - accuracy: 0.6333 - val_loss: 0.6696 - val_accuracy: 0.5902\n",
            "Epoch 7/50\n",
            "25/25 [==============================] - 0s 5ms/step - loss: 0.6697 - accuracy: 0.5771 - val_loss: 0.6553 - val_accuracy: 0.6393\n",
            "Epoch 8/50\n",
            "25/25 [==============================] - 0s 5ms/step - loss: 0.6563 - accuracy: 0.5830 - val_loss: 0.6538 - val_accuracy: 0.6557\n",
            "Epoch 9/50\n",
            "25/25 [==============================] - 0s 5ms/step - loss: 0.6511 - accuracy: 0.6299 - val_loss: 0.6480 - val_accuracy: 0.6393\n",
            "Epoch 10/50\n",
            "25/25 [==============================] - 0s 5ms/step - loss: 0.6556 - accuracy: 0.6088 - val_loss: 0.6663 - val_accuracy: 0.5410\n",
            "Epoch 11/50\n",
            "25/25 [==============================] - 0s 5ms/step - loss: 0.6465 - accuracy: 0.6042 - val_loss: 0.6413 - val_accuracy: 0.6885\n",
            "Epoch 12/50\n",
            "25/25 [==============================] - 0s 5ms/step - loss: 0.6458 - accuracy: 0.6410 - val_loss: 0.6385 - val_accuracy: 0.6393\n",
            "Epoch 13/50\n",
            "25/25 [==============================] - 0s 5ms/step - loss: 0.6329 - accuracy: 0.6435 - val_loss: 0.6091 - val_accuracy: 0.6721\n",
            "Epoch 14/50\n",
            "25/25 [==============================] - 0s 5ms/step - loss: 0.6442 - accuracy: 0.6315 - val_loss: 0.6235 - val_accuracy: 0.7049\n",
            "Epoch 15/50\n",
            "25/25 [==============================] - 0s 5ms/step - loss: 0.5835 - accuracy: 0.6775 - val_loss: 0.6240 - val_accuracy: 0.6557\n",
            "Epoch 16/50\n",
            "25/25 [==============================] - 0s 5ms/step - loss: 0.6541 - accuracy: 0.6357 - val_loss: 0.6152 - val_accuracy: 0.7213\n",
            "Epoch 17/50\n",
            "25/25 [==============================] - 0s 5ms/step - loss: 0.5857 - accuracy: 0.6717 - val_loss: 0.6080 - val_accuracy: 0.7049\n",
            "Epoch 18/50\n",
            "25/25 [==============================] - 0s 5ms/step - loss: 0.5997 - accuracy: 0.7046 - val_loss: 0.5536 - val_accuracy: 0.7213\n",
            "Epoch 19/50\n",
            "25/25 [==============================] - 0s 5ms/step - loss: 0.5888 - accuracy: 0.6781 - val_loss: 0.5715 - val_accuracy: 0.7377\n",
            "Epoch 20/50\n",
            "25/25 [==============================] - 0s 5ms/step - loss: 0.6149 - accuracy: 0.6656 - val_loss: 0.5495 - val_accuracy: 0.7377\n",
            "Epoch 21/50\n",
            "25/25 [==============================] - 0s 5ms/step - loss: 0.5570 - accuracy: 0.7393 - val_loss: 0.5769 - val_accuracy: 0.7213\n",
            "Epoch 22/50\n",
            "25/25 [==============================] - 0s 5ms/step - loss: 0.5563 - accuracy: 0.7326 - val_loss: 0.5396 - val_accuracy: 0.6885\n",
            "Epoch 23/50\n",
            "25/25 [==============================] - 0s 5ms/step - loss: 0.5253 - accuracy: 0.7607 - val_loss: 0.5359 - val_accuracy: 0.7377\n",
            "Epoch 24/50\n",
            "25/25 [==============================] - 0s 5ms/step - loss: 0.5620 - accuracy: 0.7314 - val_loss: 0.5555 - val_accuracy: 0.7213\n",
            "Epoch 25/50\n",
            "25/25 [==============================] - 0s 5ms/step - loss: 0.5643 - accuracy: 0.7148 - val_loss: 0.5308 - val_accuracy: 0.7049\n",
            "Epoch 26/50\n",
            "25/25 [==============================] - 0s 5ms/step - loss: 0.5174 - accuracy: 0.7565 - val_loss: 0.5813 - val_accuracy: 0.6557\n",
            "Epoch 27/50\n",
            "25/25 [==============================] - 0s 5ms/step - loss: 0.6018 - accuracy: 0.7093 - val_loss: 0.5020 - val_accuracy: 0.7541\n",
            "Epoch 28/50\n",
            "25/25 [==============================] - 0s 5ms/step - loss: 0.5628 - accuracy: 0.6967 - val_loss: 0.6620 - val_accuracy: 0.6393\n",
            "Epoch 29/50\n",
            "25/25 [==============================] - 0s 6ms/step - loss: 0.5772 - accuracy: 0.7468 - val_loss: 0.5038 - val_accuracy: 0.7705\n",
            "Epoch 30/50\n",
            "25/25 [==============================] - 0s 5ms/step - loss: 0.5821 - accuracy: 0.7056 - val_loss: 0.5038 - val_accuracy: 0.7377\n",
            "Epoch 31/50\n",
            "25/25 [==============================] - 0s 5ms/step - loss: 0.5133 - accuracy: 0.7774 - val_loss: 0.5703 - val_accuracy: 0.7377\n",
            "Epoch 32/50\n",
            "25/25 [==============================] - 0s 5ms/step - loss: 0.5492 - accuracy: 0.7517 - val_loss: 0.5181 - val_accuracy: 0.7541\n",
            "Epoch 33/50\n",
            "25/25 [==============================] - 0s 5ms/step - loss: 0.5896 - accuracy: 0.7130 - val_loss: 0.4842 - val_accuracy: 0.7705\n",
            "Epoch 34/50\n",
            "25/25 [==============================] - 0s 5ms/step - loss: 0.5224 - accuracy: 0.7710 - val_loss: 0.5482 - val_accuracy: 0.7377\n",
            "Epoch 35/50\n",
            "25/25 [==============================] - 0s 5ms/step - loss: 0.5105 - accuracy: 0.7802 - val_loss: 0.4676 - val_accuracy: 0.7869\n",
            "Epoch 36/50\n",
            "25/25 [==============================] - 0s 10ms/step - loss: 0.5546 - accuracy: 0.7544 - val_loss: 0.4619 - val_accuracy: 0.7541\n",
            "Epoch 37/50\n",
            "25/25 [==============================] - 0s 5ms/step - loss: 0.5003 - accuracy: 0.7292 - val_loss: 0.4715 - val_accuracy: 0.7705\n",
            "Epoch 38/50\n",
            "25/25 [==============================] - 0s 5ms/step - loss: 0.4903 - accuracy: 0.7911 - val_loss: 0.5696 - val_accuracy: 0.7049\n",
            "Epoch 39/50\n",
            "25/25 [==============================] - 0s 5ms/step - loss: 0.5076 - accuracy: 0.8046 - val_loss: 0.5655 - val_accuracy: 0.7705\n",
            "Epoch 40/50\n",
            "25/25 [==============================] - 0s 5ms/step - loss: 0.5784 - accuracy: 0.7742 - val_loss: 0.5395 - val_accuracy: 0.7377\n",
            "Epoch 41/50\n",
            "25/25 [==============================] - 0s 5ms/step - loss: 0.5142 - accuracy: 0.7697 - val_loss: 0.4799 - val_accuracy: 0.8033\n",
            "Epoch 42/50\n",
            "25/25 [==============================] - 0s 5ms/step - loss: 0.5136 - accuracy: 0.7703 - val_loss: 0.4581 - val_accuracy: 0.7869\n",
            "Epoch 43/50\n",
            "25/25 [==============================] - 0s 5ms/step - loss: 0.5218 - accuracy: 0.8076 - val_loss: 0.4521 - val_accuracy: 0.7869\n",
            "Epoch 44/50\n",
            "25/25 [==============================] - 0s 5ms/step - loss: 0.5047 - accuracy: 0.7763 - val_loss: 0.5521 - val_accuracy: 0.7377\n",
            "Epoch 45/50\n",
            "25/25 [==============================] - 0s 5ms/step - loss: 0.5132 - accuracy: 0.7838 - val_loss: 0.4282 - val_accuracy: 0.8197\n",
            "Epoch 46/50\n",
            "25/25 [==============================] - 0s 5ms/step - loss: 0.5561 - accuracy: 0.7296 - val_loss: 0.4691 - val_accuracy: 0.8361\n",
            "Epoch 47/50\n",
            "25/25 [==============================] - 0s 5ms/step - loss: 0.5542 - accuracy: 0.7445 - val_loss: 0.5074 - val_accuracy: 0.8033\n",
            "Epoch 48/50\n",
            "25/25 [==============================] - 0s 5ms/step - loss: 0.5627 - accuracy: 0.7521 - val_loss: 0.5554 - val_accuracy: 0.7049\n",
            "Epoch 49/50\n",
            "25/25 [==============================] - 0s 5ms/step - loss: 0.4559 - accuracy: 0.8024 - val_loss: 0.5266 - val_accuracy: 0.8033\n",
            "Epoch 50/50\n",
            "25/25 [==============================] - 0s 5ms/step - loss: 0.5337 - accuracy: 0.7703 - val_loss: 0.4655 - val_accuracy: 0.8033\n"
          ],
          "name": "stdout"
        }
      ]
    },
    {
      "cell_type": "code",
      "metadata": {
        "id": "23PoPAK21vDY"
      },
      "source": [
        ""
      ],
      "execution_count": null,
      "outputs": []
    },
    {
      "cell_type": "code",
      "metadata": {
        "id": "TEf7zhjsivKl"
      },
      "source": [
        ""
      ],
      "execution_count": null,
      "outputs": []
    },
    {
      "cell_type": "code",
      "metadata": {
        "colab": {
          "base_uri": "https://localhost:8080/"
        },
        "id": "hnpp2VBtjJHA",
        "outputId": "8c6532df-5768-4f7d-aded-9dedfedb31c6"
      },
      "source": [
        ""
      ],
      "execution_count": null,
      "outputs": [
        {
          "output_type": "stream",
          "text": [
            "Model: \"sequential_4\"\n",
            "_________________________________________________________________\n",
            "Layer (type)                 Output Shape              Param #   \n",
            "=================================================================\n",
            "dense_8 (Dense)              (None, 16)                224       \n",
            "_________________________________________________________________\n",
            "dropout_2 (Dropout)          (None, 16)                0         \n",
            "_________________________________________________________________\n",
            "dense_9 (Dense)              (None, 8)                 136       \n",
            "_________________________________________________________________\n",
            "dropout_3 (Dropout)          (None, 8)                 0         \n",
            "_________________________________________________________________\n",
            "dense_10 (Dense)             (None, 2)                 18        \n",
            "=================================================================\n",
            "Total params: 378\n",
            "Trainable params: 378\n",
            "Non-trainable params: 0\n",
            "_________________________________________________________________\n",
            "None\n"
          ],
          "name": "stdout"
        }
      ]
    },
    {
      "cell_type": "code",
      "metadata": {
        "id": "mGXn9FCeTN3z"
      },
      "source": [
        "from sklearn.linear_model import LogisticRegression\r\n",
        "from sklearn.tree import DecisionTreeClassifier\r\n",
        "from sklearn.neighbors import KNeighborsClassifier\r\n",
        "from sklearn.naive_bayes import GaussianNB\r\n",
        "from sklearn.svm import SVC\r\n",
        "from sklearn.ensemble import RandomForestClassifier\r\n",
        "from sklearn.metrics import accuracy_score\r\n"
      ],
      "execution_count": null,
      "outputs": []
    },
    {
      "cell_type": "code",
      "metadata": {
        "id": "9tfqbuDpT0YU"
      },
      "source": [
        "lr = LogisticRegression(max_iter=10000)"
      ],
      "execution_count": null,
      "outputs": []
    },
    {
      "cell_type": "code",
      "metadata": {
        "id": "c3dJtVfCT8Sg",
        "colab": {
          "base_uri": "https://localhost:8080/"
        },
        "outputId": "55496bf4-16dc-421c-f387-d1e6cee6770d"
      },
      "source": [
        "lr.fit(X_train,Y_train)"
      ],
      "execution_count": null,
      "outputs": [
        {
          "output_type": "execute_result",
          "data": {
            "text/plain": [
              "LogisticRegression(C=1.0, class_weight=None, dual=False, fit_intercept=True,\n",
              "                   intercept_scaling=1, l1_ratio=None, max_iter=10000,\n",
              "                   multi_class='auto', n_jobs=None, penalty='l2',\n",
              "                   random_state=None, solver='lbfgs', tol=0.0001, verbose=0,\n",
              "                   warm_start=False)"
            ]
          },
          "metadata": {
            "tags": []
          },
          "execution_count": 133
        }
      ]
    },
    {
      "cell_type": "code",
      "metadata": {
        "id": "BqV-jqoiUBUZ",
        "colab": {
          "base_uri": "https://localhost:8080/"
        },
        "outputId": "b6944807-8653-49e1-dff9-548e9c3631c3"
      },
      "source": [
        "lr.predict(X_validation)"
      ],
      "execution_count": null,
      "outputs": [
        {
          "output_type": "execute_result",
          "data": {
            "text/plain": [
              "array([0, 1, 0, 0, 0, 0, 0, 1, 0, 1, 0, 0, 1, 0, 0, 1, 1, 0, 1, 1, 1, 0,\n",
              "       1, 1, 1, 1, 0, 1, 1, 1, 1, 1, 1, 1, 0, 1, 0, 0, 1, 0, 1, 0, 0, 0,\n",
              "       1, 1, 0, 1, 1, 1, 1, 1, 1, 1, 1, 1, 1, 0, 1, 0, 1])"
            ]
          },
          "metadata": {
            "tags": []
          },
          "execution_count": 134
        }
      ]
    },
    {
      "cell_type": "code",
      "metadata": {
        "colab": {
          "base_uri": "https://localhost:8080/"
        },
        "id": "hoKJhaEhUH_8",
        "outputId": "9aaea947-ee10-4880-cdd6-04b883ea235e"
      },
      "source": [
        "predictions = lr.predict(X_validation)\r\n",
        "print(accuracy_score(Y_validation, predictions))"
      ],
      "execution_count": null,
      "outputs": [
        {
          "output_type": "stream",
          "text": [
            "0.7704918032786885\n"
          ],
          "name": "stdout"
        }
      ]
    },
    {
      "cell_type": "markdown",
      "metadata": {
        "id": "juFp5XT9hbpF"
      },
      "source": [
        "Modeling"
      ]
    },
    {
      "cell_type": "code",
      "metadata": {
        "id": "L_Z455FxhgZP"
      },
      "source": [
        "from sklearn.preprocessing import StandardScaler\r\n",
        "from sklearn.pipeline import Pipeline\r\n",
        "from scipy.stats import uniform"
      ],
      "execution_count": null,
      "outputs": []
    },
    {
      "cell_type": "code",
      "metadata": {
        "id": "yWd3_2V0hk0f"
      },
      "source": [
        "comparison = {\"Algorithm\":[],\"Training score\":[],\"Testing score\":[]}"
      ],
      "execution_count": null,
      "outputs": []
    },
    {
      "cell_type": "markdown",
      "metadata": {
        "id": "GvNOkw9jhpqf"
      },
      "source": [
        "1) Logistic regression"
      ]
    },
    {
      "cell_type": "code",
      "metadata": {
        "colab": {
          "base_uri": "https://localhost:8080/"
        },
        "id": "-67eu-TahwFK",
        "outputId": "08b4f0d1-c26e-440b-af36-7ad2deb394d2"
      },
      "source": [
        "from sklearn.linear_model import LogisticRegression\r\n",
        "pipe = Pipeline([('std',StandardScaler()),('Log_reg',LogisticRegression())])\r\n",
        "pipe.fit(X_train,Y_train)\r\n",
        "\r\n",
        "print(\"Training score:\", pipe.score(X_train,Y_train))\r\n",
        "print(\"Testing score:\",pipe.score(X_test,Y_test))\r\n",
        "\r\n",
        "comparison[\"Algorithm\"].append(\"LogisticRegression\")\r\n",
        "comparison[\"Training score\"].append(pipe.score(X_train, Y_train))\r\n",
        "comparison[\"Testing score\"].append(pipe.score(X_test, Y_test))"
      ],
      "execution_count": null,
      "outputs": [
        {
          "output_type": "stream",
          "text": [
            "Training score: 0.8264462809917356\n",
            "Testing score: 0.9016393442622951\n"
          ],
          "name": "stdout"
        }
      ]
    },
    {
      "cell_type": "markdown",
      "metadata": {
        "id": "DwMOjlwPkJUr"
      },
      "source": [
        "2) Decision tree"
      ]
    },
    {
      "cell_type": "code",
      "metadata": {
        "colab": {
          "base_uri": "https://localhost:8080/"
        },
        "id": "nZDNQ1ppkQrv",
        "outputId": "432b495e-5ab1-401c-c7a7-0070d9ced246"
      },
      "source": [
        "from sklearn.tree import DecisionTreeClassifier\r\n",
        "pipe = Pipeline([('dtc',DecisionTreeClassifier())])\r\n",
        "pipe.fit(X_train,Y_train)\r\n",
        "\r\n",
        "print(\"Training Score:\",pipe.score(X_train,Y_train))\r\n",
        "print(\"Testing score:\",pipe.score(X_test,Y_test))\r\n",
        "\r\n",
        "comparison[\"Algorithm\"].append(\"DecisionTreeClassifier\")\r\n",
        "comparison[\"Training score\"].append(pipe.score(X_train,Y_train))\r\n",
        "comparison[\"Testing score\"].append(pipe.score(X_test,Y_test))"
      ],
      "execution_count": null,
      "outputs": [
        {
          "output_type": "stream",
          "text": [
            "Training Score: 1.0\n",
            "Testing score: 0.8032786885245902\n"
          ],
          "name": "stdout"
        }
      ]
    },
    {
      "cell_type": "markdown",
      "metadata": {
        "id": "rDJWhI-1kcg_"
      },
      "source": [
        "3) RandomForest Classifier"
      ]
    },
    {
      "cell_type": "code",
      "metadata": {
        "colab": {
          "base_uri": "https://localhost:8080/"
        },
        "id": "gWrMiI23kn1s",
        "outputId": "b4903d16-e282-4a38-ff73-d9981d9e1aa1"
      },
      "source": [
        "from sklearn.ensemble import RandomForestClassifier\r\n",
        "pipe = Pipeline([('rfc',RandomForestClassifier())])\r\n",
        "pipe.fit(X_train,Y_train)\r\n",
        "\r\n",
        "print(\"Training Score:\",pipe.score(X_train,Y_train))\r\n",
        "print(\"Testing score:\",pipe.score(X_test,Y_test))\r\n",
        "\r\n",
        "comparison[\"Algorithm\"].append(\"RandomForestClassifier\")\r\n",
        "comparison[\"Training score\"].append(pipe.score(X_train,Y_train))\r\n",
        "comparison[\"Testing score\"].append(pipe.score(X_test,Y_test))"
      ],
      "execution_count": null,
      "outputs": [
        {
          "output_type": "stream",
          "text": [
            "Training Score: 1.0\n",
            "Testing score: 0.8688524590163934\n"
          ],
          "name": "stdout"
        }
      ]
    },
    {
      "cell_type": "markdown",
      "metadata": {
        "id": "0p2MGnJQhB-V"
      },
      "source": [
        "Adaboost"
      ]
    },
    {
      "cell_type": "code",
      "metadata": {
        "colab": {
          "base_uri": "https://localhost:8080/"
        },
        "id": "0bWIraq1hBZV",
        "outputId": "13e7107a-91e7-4eb2-9b98-5a13a8800a0b"
      },
      "source": [
        "from sklearn.ensemble import AdaBoostClassifier\r\n",
        "pipe = Pipeline([('ada',AdaBoostClassifier())])\r\n",
        "pipe.fit(X_train,Y_train)\r\n",
        "\r\n",
        "print(\"Training Score:\",pipe.score(X_train,Y_train))\r\n",
        "print(\"Testing score:\",pipe.score(X_test,Y_test))\r\n",
        "\r\n",
        "comparison[\"Algorithm\"].append(\"AdaBoostClassifier\")\r\n",
        "comparison[\"Training score\"].append(pipe.score(X_train,Y_train))\r\n",
        "comparison[\"Testing score\"].append(pipe.score(X_test,Y_test))"
      ],
      "execution_count": null,
      "outputs": [
        {
          "output_type": "stream",
          "text": [
            "Training Score: 0.9256198347107438\n",
            "Testing score: 0.8524590163934426\n"
          ],
          "name": "stdout"
        }
      ]
    },
    {
      "cell_type": "markdown",
      "metadata": {
        "id": "Nc9d9x6Mk_2i"
      },
      "source": [
        "Adaboost with logistic regression"
      ]
    },
    {
      "cell_type": "code",
      "metadata": {
        "colab": {
          "base_uri": "https://localhost:8080/"
        },
        "id": "5yqDOW4vlOeu",
        "outputId": "feb594fd-40a0-488f-a85d-9e74ac301af6"
      },
      "source": [
        "pipe = Pipeline([('std',StandardScaler()),('ada',AdaBoostClassifier(base_estimator=LogisticRegression()))])\r\n",
        "pipe.fit(X_train,Y_train)\r\n",
        "\r\n",
        "print(\"Training Score:\",pipe.score(X_train,Y_train))\r\n",
        "print(\"Testing score:\",pipe.score(X_test,Y_test))\r\n",
        "\r\n",
        "comparison[\"Algorithm\"].append(\"AdaBoostClassifier with logistic regression\")\r\n",
        "comparison[\"Training score\"].append(pipe.score(X_train,Y_train))\r\n",
        "comparison[\"Testing score\"].append(pipe.score(X_test,Y_test))"
      ],
      "execution_count": null,
      "outputs": [
        {
          "output_type": "stream",
          "text": [
            "Training Score: 0.8264462809917356\n",
            "Testing score: 0.9180327868852459\n"
          ],
          "name": "stdout"
        }
      ]
    },
    {
      "cell_type": "markdown",
      "metadata": {
        "id": "PBv5QLcblZdv"
      },
      "source": [
        "Ada boosting with decsion stump"
      ]
    },
    {
      "cell_type": "code",
      "metadata": {
        "colab": {
          "base_uri": "https://localhost:8080/"
        },
        "id": "5fqNP7siljsX",
        "outputId": "613cf44a-e2b7-47f9-83d1-2f17ed9df342"
      },
      "source": [
        "pipe = Pipeline([('ada',AdaBoostClassifier(base_estimator=DecisionTreeClassifier(max_depth=1)))])\r\n",
        "pipe.fit(X_train,Y_train)\r\n",
        "\r\n",
        "print(\"Training Score:\",pipe.score(X_train,Y_train))\r\n",
        "print(\"Testing score:\",pipe.score(X_test,Y_test))\r\n",
        "\r\n",
        "comparison[\"Algorithm\"].append(\"AdaBoostClassifier with decision stump\")\r\n",
        "comparison[\"Training score\"].append(pipe.score(X_train,Y_train))\r\n",
        "comparison[\"Testing score\"].append(pipe.score(X_test,Y_test))"
      ],
      "execution_count": null,
      "outputs": [
        {
          "output_type": "stream",
          "text": [
            "Training Score: 0.9256198347107438\n",
            "Testing score: 0.8524590163934426\n"
          ],
          "name": "stdout"
        }
      ]
    },
    {
      "cell_type": "code",
      "metadata": {
        "id": "HseKSZPpmWCl"
      },
      "source": [
        ""
      ],
      "execution_count": null,
      "outputs": []
    },
    {
      "cell_type": "markdown",
      "metadata": {
        "id": "7elldhXtlubj"
      },
      "source": [
        "Naive bayes"
      ]
    },
    {
      "cell_type": "code",
      "metadata": {
        "colab": {
          "base_uri": "https://localhost:8080/"
        },
        "id": "9xMoEdxEl1QC",
        "outputId": "23e81c36-e0b7-47f5-c505-9036281bcfb8"
      },
      "source": [
        "from sklearn.naive_bayes import MultinomialNB\r\n",
        "pipe = Pipeline([('mul_nb', MultinomialNB())])\r\n",
        "pipe.fit(X_train,Y_train)\r\n",
        "\r\n",
        "print(\"Training Score:\",pipe.score(X_train,Y_train))\r\n",
        "print(\"Testing score:\",pipe.score(X_test,Y_test))\r\n",
        "\r\n",
        "comparison[\"Algorithm\"].append(\"MultinomialNB\")\r\n",
        "comparison[\"Training score\"].append(pipe.score(X_train,Y_train))\r\n",
        "comparison[\"Testing score\"].append(pipe.score(X_test,Y_test))\r\n"
      ],
      "execution_count": null,
      "outputs": [
        {
          "output_type": "stream",
          "text": [
            "Training Score: 0.7355371900826446\n",
            "Testing score: 0.8032786885245902\n"
          ],
          "name": "stdout"
        }
      ]
    },
    {
      "cell_type": "markdown",
      "metadata": {
        "id": "12aJ9YkOhm7r"
      },
      "source": [
        "6) KNN classifier"
      ]
    },
    {
      "cell_type": "code",
      "metadata": {
        "id": "uoByFEvghrGi"
      },
      "source": [
        "from sklearn.neighbors import KNeighborsClassifier\r\n",
        "error = []\r\n",
        "for i in range(1,40):\r\n",
        " pipe = Pipeline([('std',StandardScaler()),('knn', KNeighborsClassifier(i))])\r\n",
        " pipe.fit(X_train,Y_train)\r\n",
        " knr_pred = pipe.predict(X_test)\r\n",
        " error.append(np.mean(Y_test!= knr_pred))"
      ],
      "execution_count": null,
      "outputs": []
    },
    {
      "cell_type": "code",
      "metadata": {
        "colab": {
          "base_uri": "https://localhost:8080/",
          "height": 421
        },
        "id": "njVQ3nWbijKy",
        "outputId": "03282a99-d03a-4e00-e4f8-e9e751b81ec8"
      },
      "source": [
        "plt.figure(figsize=(12, 6))\r\n",
        "plt.plot(range(1, 40), error, color='red', linestyle='dashed', marker='o',\r\n",
        "         markerfacecolor='blue', markersize=10)\r\n",
        "plt.title('Error Rate K Value')\r\n",
        "plt.xlabel('K Value')\r\n",
        "plt.ylabel('Mean Error')"
      ],
      "execution_count": null,
      "outputs": [
        {
          "output_type": "execute_result",
          "data": {
            "text/plain": [
              "Text(0, 0.5, 'Mean Error')"
            ]
          },
          "metadata": {
            "tags": []
          },
          "execution_count": 146
        },
        {
          "output_type": "display_data",
          "data": {
            "image/png": "[encoded data removed]",
            "text/plain": [
              "<Figure size 864x432 with 1 Axes>"
            ]
          },
          "metadata": {
            "tags": [],
            "needs_background": "light"
          }
        }
      ]
    },
    {
      "cell_type": "code",
      "metadata": {
        "colab": {
          "base_uri": "https://localhost:8080/"
        },
        "id": "-JVKTuilkzaB",
        "outputId": "5efc870f-4d13-48ca-fced-7faa0ef26fba"
      },
      "source": [
        "err_array= np.array(error)\r\n",
        "neighbours = err_array.argmin() +1\r\n",
        "neighbours"
      ],
      "execution_count": null,
      "outputs": [
        {
          "output_type": "execute_result",
          "data": {
            "text/plain": [
              "6"
            ]
          },
          "metadata": {
            "tags": []
          },
          "execution_count": 147
        }
      ]
    },
    {
      "cell_type": "code",
      "metadata": {
        "colab": {
          "base_uri": "https://localhost:8080/"
        },
        "id": "p2Ga65Ofk278",
        "outputId": "ab0f5034-a330-470c-8445-4d9541bc45c7"
      },
      "source": [
        "pipe = Pipeline([('std',StandardScaler()),('knn',KNeighborsClassifier(neighbours))])\r\n",
        "pipe.fit(X_train,Y_train)\r\n",
        "\r\n",
        "print(\"Training Score:\",pipe.score(X_train,Y_train))\r\n",
        "print(\"Testing score:\",pipe.score(X_test,Y_test))\r\n",
        "\r\n",
        "comparison[\"Algorithm\"].append(\"KNeighborsClassifier\")\r\n",
        "comparison[\"Training score\"].append(pipe.score(X_train,Y_train))\r\n",
        "comparison[\"Testing score\"].append(pipe.score(X_test,Y_test))"
      ],
      "execution_count": null,
      "outputs": [
        {
          "output_type": "stream",
          "text": [
            "Training Score: 0.8677685950413223\n",
            "Testing score: 0.9344262295081968\n"
          ],
          "name": "stdout"
        }
      ]
    },
    {
      "cell_type": "code",
      "metadata": {
        "colab": {
          "base_uri": "https://localhost:8080/"
        },
        "id": "Qn_jQuyOIEwU",
        "outputId": "cb775ce6-3613-4d26-a494-45abfe50c861"
      },
      "source": [
        "comparison['Algorithm']"
      ],
      "execution_count": null,
      "outputs": [
        {
          "output_type": "execute_result",
          "data": {
            "text/plain": [
              "['LogisticRegression',\n",
              " 'DecisionTreeClassifier',\n",
              " 'RandomForestClassifier',\n",
              " 'AdaBoostClassifier',\n",
              " 'AdaBoostClassifier with logistic regression',\n",
              " 'AdaBoostClassifier with decision stump',\n",
              " 'MultinomialNB',\n",
              " 'KNeighborsClassifier']"
            ]
          },
          "metadata": {
            "tags": []
          },
          "execution_count": 149
        }
      ]
    },
    {
      "cell_type": "code",
      "metadata": {
        "id": "ywUG5-NbJg_z"
      },
      "source": [
        "#del comparison['Training score'][-1]"
      ],
      "execution_count": null,
      "outputs": []
    },
    {
      "cell_type": "code",
      "metadata": {
        "id": "IOV4rN_BKLgO"
      },
      "source": [
        ""
      ],
      "execution_count": null,
      "outputs": []
    },
    {
      "cell_type": "code",
      "metadata": {
        "colab": {
          "base_uri": "https://localhost:8080/"
        },
        "id": "BgxFMJeLJ9HO",
        "outputId": "59a4fedc-7013-48be-c4a6-8bac53023d1b"
      },
      "source": [
        "comparison"
      ],
      "execution_count": null,
      "outputs": [
        {
          "output_type": "execute_result",
          "data": {
            "text/plain": [
              "{'Algorithm': ['LogisticRegression',\n",
              "  'DecisionTreeClassifier',\n",
              "  'RandomForestClassifier',\n",
              "  'AdaBoostClassifier',\n",
              "  'AdaBoostClassifier with logistic regression',\n",
              "  'AdaBoostClassifier with decision stump',\n",
              "  'MultinomialNB',\n",
              "  'KNeighborsClassifier'],\n",
              " 'Testing score': [0.9016393442622951,\n",
              "  0.8032786885245902,\n",
              "  0.8688524590163934,\n",
              "  0.8524590163934426,\n",
              "  0.9180327868852459,\n",
              "  0.8524590163934426,\n",
              "  0.8032786885245902,\n",
              "  0.9344262295081968],\n",
              " 'Training score': [0.8264462809917356,\n",
              "  1.0,\n",
              "  1.0,\n",
              "  0.9256198347107438,\n",
              "  0.8264462809917356,\n",
              "  0.9256198347107438,\n",
              "  0.7355371900826446,\n",
              "  0.8677685950413223]}"
            ]
          },
          "metadata": {
            "tags": []
          },
          "execution_count": 150
        }
      ]
    },
    {
      "cell_type": "code",
      "metadata": {
        "colab": {
          "base_uri": "https://localhost:8080/",
          "height": 297
        },
        "id": "FKs5-dK0lB04",
        "outputId": "19c0670b-2ee0-4ca0-ce08-dc913f43f4b7"
      },
      "source": [
        "results = pd.DataFrame(comparison)\r\n",
        "results"
      ],
      "execution_count": null,
      "outputs": [
        {
          "output_type": "execute_result",
          "data": {
            "text/html": [
              "<div>\n",
              "<style scoped>\n",
              "    .dataframe tbody tr th:only-of-type {\n",
              "        vertical-align: middle;\n",
              "    }\n",
              "\n",
              "    .dataframe tbody tr th {\n",
              "        vertical-align: top;\n",
              "    }\n",
              "\n",
              "    .dataframe thead th {\n",
              "        text-align: right;\n",
              "    }\n",
              "</style>\n",
              "<table border=\"1\" class=\"dataframe\">\n",
              "  <thead>\n",
              "    <tr style=\"text-align: right;\">\n",
              "      <th></th>\n",
              "      <th>Algorithm</th>\n",
              "      <th>Training score</th>\n",
              "      <th>Testing score</th>\n",
              "    </tr>\n",
              "  </thead>\n",
              "  <tbody>\n",
              "    <tr>\n",
              "      <th>0</th>\n",
              "      <td>LogisticRegression</td>\n",
              "      <td>0.826446</td>\n",
              "      <td>0.901639</td>\n",
              "    </tr>\n",
              "    <tr>\n",
              "      <th>1</th>\n",
              "      <td>DecisionTreeClassifier</td>\n",
              "      <td>1.000000</td>\n",
              "      <td>0.803279</td>\n",
              "    </tr>\n",
              "    <tr>\n",
              "      <th>2</th>\n",
              "      <td>RandomForestClassifier</td>\n",
              "      <td>1.000000</td>\n",
              "      <td>0.868852</td>\n",
              "    </tr>\n",
              "    <tr>\n",
              "      <th>3</th>\n",
              "      <td>AdaBoostClassifier</td>\n",
              "      <td>0.925620</td>\n",
              "      <td>0.852459</td>\n",
              "    </tr>\n",
              "    <tr>\n",
              "      <th>4</th>\n",
              "      <td>AdaBoostClassifier with logistic regression</td>\n",
              "      <td>0.826446</td>\n",
              "      <td>0.918033</td>\n",
              "    </tr>\n",
              "    <tr>\n",
              "      <th>5</th>\n",
              "      <td>AdaBoostClassifier with decision stump</td>\n",
              "      <td>0.925620</td>\n",
              "      <td>0.852459</td>\n",
              "    </tr>\n",
              "    <tr>\n",
              "      <th>6</th>\n",
              "      <td>MultinomialNB</td>\n",
              "      <td>0.735537</td>\n",
              "      <td>0.803279</td>\n",
              "    </tr>\n",
              "    <tr>\n",
              "      <th>7</th>\n",
              "      <td>KNeighborsClassifier</td>\n",
              "      <td>0.867769</td>\n",
              "      <td>0.934426</td>\n",
              "    </tr>\n",
              "  </tbody>\n",
              "</table>\n",
              "</div>"
            ],
            "text/plain": [
              "                                     Algorithm  Training score  Testing score\n",
              "0                           LogisticRegression        0.826446       0.901639\n",
              "1                       DecisionTreeClassifier        1.000000       0.803279\n",
              "2                       RandomForestClassifier        1.000000       0.868852\n",
              "3                           AdaBoostClassifier        0.925620       0.852459\n",
              "4  AdaBoostClassifier with logistic regression        0.826446       0.918033\n",
              "5       AdaBoostClassifier with decision stump        0.925620       0.852459\n",
              "6                                MultinomialNB        0.735537       0.803279\n",
              "7                         KNeighborsClassifier        0.867769       0.934426"
            ]
          },
          "metadata": {
            "tags": []
          },
          "execution_count": 151
        }
      ]
    },
    {
      "cell_type": "markdown",
      "metadata": {
        "id": "_CrswfobgXCg"
      },
      "source": [
        "CV"
      ]
    },
    {
      "cell_type": "code",
      "metadata": {
        "id": "vLOgucRzliIp"
      },
      "source": [
        ""
      ],
      "execution_count": null,
      "outputs": []
    },
    {
      "cell_type": "code",
      "metadata": {
        "id": "v_BD-lZhU1Oe"
      },
      "source": [
        "from sklearn.metrics import classification_report\r\n",
        "from sklearn.metrics import confusion_matrix\r\n",
        "from sklearn.metrics import accuracy_score"
      ],
      "execution_count": null,
      "outputs": []
    },
    {
      "cell_type": "code",
      "metadata": {
        "id": "ADHZ1h9mVE0C"
      },
      "source": [
        "#Spotcheck Algorithm\r\n",
        "\r\n",
        "models = []\r\n",
        "models.append(('LR', LogisticRegression(solver='liblinear', multi_class='ovr')))\r\n",
        "models.append(('KNN', KNeighborsClassifier()))\r\n",
        "models.append(('CART', DecisionTreeClassifier()))\r\n",
        "models.append(('NB', GaussianNB()))\r\n",
        "models.append(('SVM', SVC(gamma='auto')))\r\n",
        "models.append(('RF', RandomForestClassifier()))"
      ],
      "execution_count": null,
      "outputs": []
    },
    {
      "cell_type": "code",
      "metadata": {
        "colab": {
          "base_uri": "https://localhost:8080/"
        },
        "id": "u06s5udieskc",
        "outputId": "c2fad313-581b-4f28-c8fd-4b491a03523c"
      },
      "source": [
        "models"
      ],
      "execution_count": null,
      "outputs": [
        {
          "output_type": "execute_result",
          "data": {
            "text/plain": [
              "[('LR',\n",
              "  LogisticRegression(C=1.0, class_weight=None, dual=False, fit_intercept=True,\n",
              "                     intercept_scaling=1, l1_ratio=None, max_iter=100,\n",
              "                     multi_class='ovr', n_jobs=None, penalty='l2',\n",
              "                     random_state=None, solver='liblinear', tol=0.0001, verbose=0,\n",
              "                     warm_start=False)),\n",
              " ('KNN',\n",
              "  KNeighborsClassifier(algorithm='auto', leaf_size=30, metric='minkowski',\n",
              "                       metric_params=None, n_jobs=None, n_neighbors=5, p=2,\n",
              "                       weights='uniform')),\n",
              " ('CART',\n",
              "  DecisionTreeClassifier(ccp_alpha=0.0, class_weight=None, criterion='gini',\n",
              "                         max_depth=None, max_features=None, max_leaf_nodes=None,\n",
              "                         min_impurity_decrease=0.0, min_impurity_split=None,\n",
              "                         min_samples_leaf=1, min_samples_split=2,\n",
              "                         min_weight_fraction_leaf=0.0, presort='deprecated',\n",
              "                         random_state=None, splitter='best'))]"
            ]
          },
          "metadata": {
            "tags": []
          },
          "execution_count": 57
        }
      ]
    },
    {
      "cell_type": "code",
      "metadata": {
        "id": "tJZxdkjtVt1h"
      },
      "source": [
        "results = []\r\n",
        "names = []"
      ],
      "execution_count": null,
      "outputs": []
    },
    {
      "cell_type": "code",
      "metadata": {
        "id": "LFBHvafmVzCR"
      },
      "source": [
        "from sklearn.model_selection import cross_val_score\r\n",
        "from sklearn.model_selection import StratifiedKFold"
      ],
      "execution_count": null,
      "outputs": []
    },
    {
      "cell_type": "code",
      "metadata": {
        "colab": {
          "base_uri": "https://localhost:8080/"
        },
        "id": "ROPH5zNDWEJP",
        "outputId": "5a9d84f0-809f-40c9-f860-02b26b457862"
      },
      "source": [
        "for name, model in models:\r\n",
        "  kfold = StratifiedKFold(n_splits=4, random_state=1, shuffle=True)\r\n",
        "  cv_results = cross_val_score(model, X_train, Y_train, cv = kfold, scoring='accuracy')\r\n",
        "  results.append(cv_results)\r\n",
        "  names.append(name)\r\n",
        "  print(\"cv_results\", cv_results)\r\n",
        "  print('%s: %f (%f)' % (name, cv_results.mean(), cv_results.std())) "
      ],
      "execution_count": null,
      "outputs": [
        {
          "output_type": "stream",
          "text": [
            "cv_results [0.75409836 0.81967213 0.83333333 0.83333333]\n",
            "LR: 0.810109 (0.032815)\n",
            "cv_results [0.57377049 0.63934426 0.63333333 0.66666667]\n",
            "KNN: 0.628279 (0.033885)\n",
            "cv_results [0.70491803 0.7704918  0.78333333 0.65      ]\n",
            "CART: 0.727186 (0.053576)\n"
          ],
          "name": "stdout"
        }
      ]
    },
    {
      "cell_type": "code",
      "metadata": {
        "colab": {
          "base_uri": "https://localhost:8080/",
          "height": 281
        },
        "id": "dGHjpLHdXE6h",
        "outputId": "9287d052-1cbd-4338-d5e9-cb15d1ae60a7"
      },
      "source": [
        "plt.boxplot(results, labels=names)\r\n",
        "plt.title('Algorithm Comparison')\r\n",
        "plt.show()"
      ],
      "execution_count": null,
      "outputs": [
        {
          "output_type": "display_data",
          "data": {
            "image/png": "[encoded data removed]",
            "text/plain": [
              "<Figure size 432x288 with 1 Axes>"
            ]
          },
          "metadata": {
            "tags": [],
            "needs_background": "light"
          }
        }
      ]
    },
    {
      "cell_type": "code",
      "metadata": {
        "id": "P3kUCGmaXvc-"
      },
      "source": [
        "rf = RandomForestClassifier()"
      ],
      "execution_count": null,
      "outputs": []
    },
    {
      "cell_type": "code",
      "metadata": {
        "id": "Xz6zWW9MYeBe"
      },
      "source": [
        "rf.fit(X_train, Y_train)\r\n",
        "predictions = rf.predict(X_validation)"
      ],
      "execution_count": null,
      "outputs": []
    },
    {
      "cell_type": "code",
      "metadata": {
        "colab": {
          "base_uri": "https://localhost:8080/"
        },
        "id": "nO4zoAQTYpu_",
        "outputId": "9e390293-6919-498d-8ee4-1673daa9c5db"
      },
      "source": [
        "print(accuracy_score(Y_validation, predictions))"
      ],
      "execution_count": null,
      "outputs": [
        {
          "output_type": "stream",
          "text": [
            "0.9180327868852459\n"
          ],
          "name": "stdout"
        }
      ]
    },
    {
      "cell_type": "code",
      "metadata": {
        "colab": {
          "base_uri": "https://localhost:8080/"
        },
        "id": "I9NrOI3GY2bl",
        "outputId": "39b0dfbb-9dfe-425a-a491-643194bd5c27"
      },
      "source": [
        "print(confusion_matrix(Y_validation,predictions))"
      ],
      "execution_count": null,
      "outputs": [
        {
          "output_type": "stream",
          "text": [
            "[[28  2]\n",
            " [ 3 28]]\n"
          ],
          "name": "stdout"
        }
      ]
    },
    {
      "cell_type": "code",
      "metadata": {
        "colab": {
          "base_uri": "https://localhost:8080/"
        },
        "id": "0P-vudU9b5u7",
        "outputId": "fdd9d76a-3321-46f9-ba89-3539e76b1b02"
      },
      "source": [
        "print(classification_report(Y_validation, predictions))"
      ],
      "execution_count": null,
      "outputs": [
        {
          "output_type": "stream",
          "text": [
            "              precision    recall  f1-score   support\n",
            "\n",
            "           0       0.90      0.93      0.92        30\n",
            "           1       0.93      0.90      0.92        31\n",
            "\n",
            "    accuracy                           0.92        61\n",
            "   macro avg       0.92      0.92      0.92        61\n",
            "weighted avg       0.92      0.92      0.92        61\n",
            "\n"
          ],
          "name": "stdout"
        }
      ]
    },
    {
      "cell_type": "markdown",
      "metadata": {
        "id": "ZfaP6tFDmhZW"
      },
      "source": [
        "Evaluation metrics"
      ]
    },
    {
      "cell_type": "code",
      "metadata": {
        "colab": {
          "base_uri": "https://localhost:8080/"
        },
        "id": "KgHnpW7Gms29",
        "outputId": "834f19d8-26ce-4c3c-f8cb-8eaba498efa7"
      },
      "source": [
        "from sklearn import tree, metrics\r\n",
        "dtree = tree.DecisionTreeClassifier(criterion='gini') # entrophy or gini\r\n",
        "dtree.fit(X_train, Y_train)"
      ],
      "execution_count": null,
      "outputs": [
        {
          "output_type": "execute_result",
          "data": {
            "text/plain": [
              "DecisionTreeClassifier(ccp_alpha=0.0, class_weight=None, criterion='gini',\n",
              "                       max_depth=None, max_features=None, max_leaf_nodes=None,\n",
              "                       min_impurity_decrease=0.0, min_impurity_split=None,\n",
              "                       min_samples_leaf=1, min_samples_split=2,\n",
              "                       min_weight_fraction_leaf=0.0, presort='deprecated',\n",
              "                       random_state=None, splitter='best')"
            ]
          },
          "metadata": {
            "tags": []
          },
          "execution_count": 67
        }
      ]
    },
    {
      "cell_type": "code",
      "metadata": {
        "colab": {
          "base_uri": "https://localhost:8080/"
        },
        "id": "a8I6IU0lnJjB",
        "outputId": "4d5e3cb5-d48f-423b-d2e4-884970f7dcb7"
      },
      "source": [
        "Y_hat = dtree.predict(X_test)\r\n",
        "print(classification_report(Y_test, Y_hat))"
      ],
      "execution_count": null,
      "outputs": [
        {
          "output_type": "stream",
          "text": [
            "              precision    recall  f1-score   support\n",
            "\n",
            "           0       0.68      0.61      0.64        28\n",
            "           1       0.69      0.76      0.72        33\n",
            "\n",
            "    accuracy                           0.69        61\n",
            "   macro avg       0.69      0.68      0.68        61\n",
            "weighted avg       0.69      0.69      0.69        61\n",
            "\n"
          ],
          "name": "stdout"
        }
      ]
    },
    {
      "cell_type": "code",
      "metadata": {
        "id": "FkhJ6qV8oAUd"
      },
      "source": [
        "knn = KNeighborsClassifier(n_neighbors=4)"
      ],
      "execution_count": null,
      "outputs": []
    },
    {
      "cell_type": "code",
      "metadata": {
        "colab": {
          "base_uri": "https://localhost:8080/"
        },
        "id": "_ReEhzLloHav",
        "outputId": "4d800acf-ffa5-48af-df1b-e35a45f7a490"
      },
      "source": [
        "knn.fit(X_train,Y_train)\r\n",
        "knn.score(X_train,Y_train)"
      ],
      "execution_count": null,
      "outputs": [
        {
          "output_type": "execute_result",
          "data": {
            "text/plain": [
              "0.7727272727272727"
            ]
          },
          "metadata": {
            "tags": []
          },
          "execution_count": 70
        }
      ]
    },
    {
      "cell_type": "markdown",
      "metadata": {
        "id": "xIcB-7oSoaPT"
      },
      "source": [
        "From the above comparison we can say that random forest classifer is giving better score so lets work on optimizing parameters of that"
      ]
    },
    {
      "cell_type": "code",
      "metadata": {
        "id": "71rcxb-incch"
      },
      "source": [
        "from sklearn.model_selection import GridSearchCV"
      ],
      "execution_count": null,
      "outputs": []
    },
    {
      "cell_type": "code",
      "metadata": {
        "id": "gxwKfTu1pEQq"
      },
      "source": [
        "pipe = Pipeline([('std',StandardScaler()),('rfc',RandomForestClassifier())])"
      ],
      "execution_count": null,
      "outputs": []
    },
    {
      "cell_type": "code",
      "metadata": {
        "colab": {
          "base_uri": "https://localhost:8080/"
        },
        "id": "_xoRegA5pbjV",
        "outputId": "cc09fc6f-fd39-48c4-a2ac-bb3851eac6cb"
      },
      "source": [
        "RandomForestClassifier().get_params()"
      ],
      "execution_count": null,
      "outputs": [
        {
          "output_type": "execute_result",
          "data": {
            "text/plain": [
              "{'bootstrap': True,\n",
              " 'ccp_alpha': 0.0,\n",
              " 'class_weight': None,\n",
              " 'criterion': 'gini',\n",
              " 'max_depth': None,\n",
              " 'max_features': 'auto',\n",
              " 'max_leaf_nodes': None,\n",
              " 'max_samples': None,\n",
              " 'min_impurity_decrease': 0.0,\n",
              " 'min_impurity_split': None,\n",
              " 'min_samples_leaf': 1,\n",
              " 'min_samples_split': 2,\n",
              " 'min_weight_fraction_leaf': 0.0,\n",
              " 'n_estimators': 100,\n",
              " 'n_jobs': None,\n",
              " 'oob_score': False,\n",
              " 'random_state': None,\n",
              " 'verbose': 0,\n",
              " 'warm_start': False}"
            ]
          },
          "metadata": {
            "tags": []
          },
          "execution_count": 73
        }
      ]
    },
    {
      "cell_type": "code",
      "metadata": {
        "id": "rjjgxZ4vqMJe"
      },
      "source": [
        "params= {\r\n",
        "    'std__with_mean': [True,False],\r\n",
        "    'std__with_std': [True,False],\r\n",
        "\r\n",
        "    'rfc__n_estimators':[400,500,600],\r\n",
        "    'rfc__criterion':['gini', 'entropy'],\r\n",
        "    'rfc__max_features': ['auto', 'sqrt', 'log2'],\r\n",
        "    'rfc__bootstrap': [True,False],        \r\n",
        "}"
      ],
      "execution_count": null,
      "outputs": []
    },
    {
      "cell_type": "code",
      "metadata": {
        "colab": {
          "base_uri": "https://localhost:8080/"
        },
        "id": "nu3-EYM8rBpr",
        "outputId": "60757991-a87b-426a-a163-017d0043a0e1"
      },
      "source": [
        "clf = GridSearchCV(pipe,param_grid=params,cv=4)\r\n",
        "clf.fit(X_train,Y_train)"
      ],
      "execution_count": null,
      "outputs": [
        {
          "output_type": "execute_result",
          "data": {
            "text/plain": [
              "GridSearchCV(cv=4, error_score=nan,\n",
              "             estimator=Pipeline(memory=None,\n",
              "                                steps=[('std',\n",
              "                                        StandardScaler(copy=True,\n",
              "                                                       with_mean=True,\n",
              "                                                       with_std=True)),\n",
              "                                       ('rfc',\n",
              "                                        RandomForestClassifier(bootstrap=True,\n",
              "                                                               ccp_alpha=0.0,\n",
              "                                                               class_weight=None,\n",
              "                                                               criterion='gini',\n",
              "                                                               max_depth=None,\n",
              "                                                               max_features='auto',\n",
              "                                                               max_leaf_nodes=None,\n",
              "                                                               max_samples=None,\n",
              "                                                               min_impurity_decrease=0.0,\n",
              "                                                               min_impurity_split=None...\n",
              "                                                               warm_start=False))],\n",
              "                                verbose=False),\n",
              "             iid='deprecated', n_jobs=None,\n",
              "             param_grid={'rfc__bootstrap': [True, False],\n",
              "                         'rfc__criterion': ['gini', 'entropy'],\n",
              "                         'rfc__max_features': ['auto', 'sqrt', 'log2'],\n",
              "                         'rfc__n_estimators': [400, 500, 600],\n",
              "                         'std__with_mean': [True, False],\n",
              "                         'std__with_std': [True, False]},\n",
              "             pre_dispatch='2*n_jobs', refit=True, return_train_score=False,\n",
              "             scoring=None, verbose=0)"
            ]
          },
          "metadata": {
            "tags": []
          },
          "execution_count": 75
        }
      ]
    },
    {
      "cell_type": "code",
      "metadata": {
        "colab": {
          "base_uri": "https://localhost:8080/"
        },
        "id": "-aPEwdODrdaD",
        "outputId": "5a412eb5-74a6-4a5a-86e3-8d4f146ac3ca"
      },
      "source": [
        "clf.best_params_"
      ],
      "execution_count": null,
      "outputs": [
        {
          "output_type": "execute_result",
          "data": {
            "text/plain": [
              "{'rfc__bootstrap': True,\n",
              " 'rfc__criterion': 'gini',\n",
              " 'rfc__max_features': 'sqrt',\n",
              " 'rfc__n_estimators': 600,\n",
              " 'std__with_mean': True,\n",
              " 'std__with_std': True}"
            ]
          },
          "metadata": {
            "tags": []
          },
          "execution_count": 76
        }
      ]
    },
    {
      "cell_type": "code",
      "metadata": {
        "colab": {
          "base_uri": "https://localhost:8080/"
        },
        "id": "Se5qNrMbri8j",
        "outputId": "44af4d5e-b14e-4970-8b65-0c3ff7d80ca8"
      },
      "source": [
        "clf.score(X_test,Y_test)"
      ],
      "execution_count": null,
      "outputs": [
        {
          "output_type": "execute_result",
          "data": {
            "text/plain": [
              "0.819672131147541"
            ]
          },
          "metadata": {
            "tags": []
          },
          "execution_count": 77
        }
      ]
    },
    {
      "cell_type": "code",
      "metadata": {
        "id": "dDIegqJHrrEv"
      },
      "source": [
        "from sklearn.metrics import classification_report, confusion_matrix"
      ],
      "execution_count": null,
      "outputs": []
    },
    {
      "cell_type": "code",
      "metadata": {
        "colab": {
          "base_uri": "https://localhost:8080/"
        },
        "id": "srd8KVctrz89",
        "outputId": "3e937e7b-72fe-4426-ee39-dae805e6af19"
      },
      "source": [
        "print(classification_report(Y_test,clf.predict(X_test)))"
      ],
      "execution_count": null,
      "outputs": [
        {
          "output_type": "stream",
          "text": [
            "              precision    recall  f1-score   support\n",
            "\n",
            "           0       0.81      0.79      0.80        28\n",
            "           1       0.82      0.85      0.84        33\n",
            "\n",
            "    accuracy                           0.82        61\n",
            "   macro avg       0.82      0.82      0.82        61\n",
            "weighted avg       0.82      0.82      0.82        61\n",
            "\n"
          ],
          "name": "stdout"
        }
      ]
    },
    {
      "cell_type": "markdown",
      "metadata": {
        "id": "LJ9j5bpNtXsh"
      },
      "source": [
        "We can get an accuracy of 95%"
      ]
    },
    {
      "cell_type": "code",
      "metadata": {
        "colab": {
          "base_uri": "https://localhost:8080/",
          "height": 316
        },
        "id": "lQbj9aO-tcn0",
        "outputId": "fbebcd2f-9cca-46ae-ab85-902d2bc69702"
      },
      "source": [
        "print(confusion_matrix(Y_test, clf.predict(X_test)))\r\n",
        "sns.heatmap(confusion_matrix(Y_test,clf.predict(X_test)),annot=True)"
      ],
      "execution_count": null,
      "outputs": [
        {
          "output_type": "stream",
          "text": [
            "[[22  6]\n",
            " [ 5 28]]\n"
          ],
          "name": "stdout"
        },
        {
          "output_type": "execute_result",
          "data": {
            "text/plain": [
              "<matplotlib.axes._subplots.AxesSubplot at 0x7fdec49e3828>"
            ]
          },
          "metadata": {
            "tags": []
          },
          "execution_count": 80
        },
        {
          "output_type": "display_data",
          "data": {
            "image/png": "[encoded data removed]",
            "text/plain": [
              "<Figure size 432x288 with 2 Axes>"
            ]
          },
          "metadata": {
            "tags": [],
            "needs_background": "light"
          }
        }
      ]
    },
    {
      "cell_type": "code",
      "metadata": {
        "colab": {
          "base_uri": "https://localhost:8080/",
          "height": 337
        },
        "id": "0Bk7nghttyg2",
        "outputId": "b44aa3c4-5f30-4256-9575-2b1955c7b00e"
      },
      "source": [
        "plt.figure(figsize=(15,5))\r\n",
        "plt.scatter(range(len(Y_test)), Y_test, s=80, label = 'actual')\r\n",
        "plt.scatter(range(len(clf.predict(X_test))), clf.predict(X_test), s=80, marker='*', label='predicted')\r\n",
        "plt.legend()"
      ],
      "execution_count": null,
      "outputs": [
        {
          "output_type": "execute_result",
          "data": {
            "text/plain": [
              "<matplotlib.legend.Legend at 0x7fdec49eaba8>"
            ]
          },
          "metadata": {
            "tags": []
          },
          "execution_count": 81
        },
        {
          "output_type": "display_data",
          "data": {
            "image/png": "[encoded data removed]",
            "text/plain": [
              "<Figure size 1080x360 with 1 Axes>"
            ]
          },
          "metadata": {
            "tags": [],
            "needs_background": "light"
          }
        }
      ]
    },
    {
      "cell_type": "code",
      "metadata": {
        "id": "wcsHvxbvDZ8k",
        "colab": {
          "base_uri": "https://localhost:8080/"
        },
        "outputId": "06924f2c-ed1c-47bc-dbf3-3c9595ccc2ef"
      },
      "source": [
        "# convert the data to categorical labels\r\n",
        "from keras.utils.np_utils import to_categorical\r\n",
        "\r\n",
        "Y_train = to_categorical(Y_train, num_classes=None)\r\n",
        "Y_test = to_categorical(Y_test, num_classes=None)\r\n",
        "print(Y_train.shape)\r\n",
        "print (Y_train[:10])"
      ],
      "execution_count": null,
      "outputs": [
        {
          "output_type": "stream",
          "text": [
            "(242, 2)\n",
            "[[0. 1.]\n",
            " [1. 0.]\n",
            " [1. 0.]\n",
            " [1. 0.]\n",
            " [0. 1.]\n",
            " [0. 1.]\n",
            " [1. 0.]\n",
            " [1. 0.]\n",
            " [1. 0.]\n",
            " [0. 1.]]\n"
          ],
          "name": "stdout"
        }
      ]
    },
    {
      "cell_type": "markdown",
      "metadata": {
        "id": "kF-KQs7Zi04i"
      },
      "source": [
        "Neural Network"
      ]
    },
    {
      "cell_type": "code",
      "metadata": {
        "id": "cyMWiSLTDjnT"
      },
      "source": [
        "from keras.models import Sequential\r\n",
        "from keras.layers import Dense\r\n",
        "from keras.optimizers import Adam\r\n",
        "from keras.layers import Dropout\r\n",
        "from keras import regularizers"
      ],
      "execution_count": null,
      "outputs": []
    },
    {
      "cell_type": "code",
      "metadata": {
        "id": "THg5iVNUDp9d"
      },
      "source": [
        "#Model Building\r\n",
        "l0 = tf.keras.layers.Dense(units=32, input_shape=[3], activation='relu')\r\n",
        "l1 = tf.keras.layers.Dense(units=32, activation='relu')\r\n",
        "l2 = tf.keras.layers.Dense(units=2, activation='softmax')\r\n",
        "\r\n",
        "model = tf.keras.Sequential([l0, l1, l2])\r\n",
        "\r\n",
        "#Training\r\n",
        "\r\n",
        "\r\n",
        "model.compile(loss='mean_squared_error',  optimizer=tf.keras.optimizers.Adam(0.1))\r\n",
        "             \r\n",
        "#history = model.fit(X_train, Y_train, epochs=500, verbose=False)\r\n",
        "\r\n",
        "#Predict\r\n",
        "#model.predict(X)"
      ],
      "execution_count": null,
      "outputs": []
    },
    {
      "cell_type": "code",
      "metadata": {
        "colab": {
          "base_uri": "https://localhost:8080/"
        },
        "id": "uxP09T1BMJA3",
        "outputId": "838b29b5-312d-4c6a-a4d6-5bc4b630271b"
      },
      "source": [
        "history=model.fit(X_train, Y_train, validation_data=(X_test, Y_test), epochs=50, batch_size=10)"
      ],
      "execution_count": null,
      "outputs": [
        {
          "output_type": "stream",
          "text": [
            "Epoch 1/50\n",
            "25/25 [==============================] - 2s 11ms/step - loss: 0.8122 - accuracy: 0.5663 - val_loss: 0.6680 - val_accuracy: 0.5902\n",
            "Epoch 2/50\n",
            "25/25 [==============================] - 0s 4ms/step - loss: 0.7127 - accuracy: 0.4891 - val_loss: 0.6638 - val_accuracy: 0.6393\n",
            "Epoch 3/50\n",
            "25/25 [==============================] - 0s 4ms/step - loss: 0.7187 - accuracy: 0.4944 - val_loss: 0.6642 - val_accuracy: 0.5902\n",
            "Epoch 4/50\n",
            "25/25 [==============================] - 0s 4ms/step - loss: 0.6579 - accuracy: 0.5987 - val_loss: 0.6553 - val_accuracy: 0.6393\n",
            "Epoch 5/50\n",
            "25/25 [==============================] - 0s 4ms/step - loss: 0.6538 - accuracy: 0.6004 - val_loss: 0.6624 - val_accuracy: 0.6393\n",
            "Epoch 6/50\n",
            "25/25 [==============================] - 0s 5ms/step - loss: 0.6515 - accuracy: 0.5973 - val_loss: 0.6542 - val_accuracy: 0.6721\n",
            "Epoch 7/50\n",
            "25/25 [==============================] - 0s 4ms/step - loss: 0.6755 - accuracy: 0.5824 - val_loss: 0.6521 - val_accuracy: 0.6393\n",
            "Epoch 8/50\n",
            "25/25 [==============================] - 0s 4ms/step - loss: 0.6509 - accuracy: 0.5880 - val_loss: 0.6588 - val_accuracy: 0.6066\n",
            "Epoch 9/50\n",
            "25/25 [==============================] - 0s 4ms/step - loss: 0.6633 - accuracy: 0.5938 - val_loss: 0.6457 - val_accuracy: 0.6230\n",
            "Epoch 10/50\n",
            "25/25 [==============================] - 0s 4ms/step - loss: 0.6177 - accuracy: 0.6666 - val_loss: 0.6430 - val_accuracy: 0.6721\n",
            "Epoch 11/50\n",
            "25/25 [==============================] - 0s 4ms/step - loss: 0.5918 - accuracy: 0.7002 - val_loss: 0.6590 - val_accuracy: 0.6066\n",
            "Epoch 12/50\n",
            "25/25 [==============================] - 0s 4ms/step - loss: 0.6130 - accuracy: 0.6623 - val_loss: 0.6389 - val_accuracy: 0.6393\n",
            "Epoch 13/50\n",
            "25/25 [==============================] - 0s 4ms/step - loss: 0.5888 - accuracy: 0.6698 - val_loss: 0.6283 - val_accuracy: 0.6885\n",
            "Epoch 14/50\n",
            "25/25 [==============================] - 0s 4ms/step - loss: 0.6393 - accuracy: 0.6245 - val_loss: 0.5891 - val_accuracy: 0.7377\n",
            "Epoch 15/50\n",
            "25/25 [==============================] - 0s 4ms/step - loss: 0.5771 - accuracy: 0.6878 - val_loss: 0.6433 - val_accuracy: 0.6393\n",
            "Epoch 16/50\n",
            "25/25 [==============================] - 0s 4ms/step - loss: 0.5849 - accuracy: 0.6521 - val_loss: 0.6228 - val_accuracy: 0.6230\n",
            "Epoch 17/50\n",
            "25/25 [==============================] - 0s 4ms/step - loss: 0.6095 - accuracy: 0.6492 - val_loss: 0.6148 - val_accuracy: 0.6393\n",
            "Epoch 18/50\n",
            "25/25 [==============================] - 0s 4ms/step - loss: 0.6155 - accuracy: 0.6274 - val_loss: 0.5590 - val_accuracy: 0.7213\n",
            "Epoch 19/50\n",
            "25/25 [==============================] - 0s 4ms/step - loss: 0.5593 - accuracy: 0.7320 - val_loss: 0.6325 - val_accuracy: 0.6557\n",
            "Epoch 20/50\n",
            "25/25 [==============================] - 0s 4ms/step - loss: 0.5174 - accuracy: 0.7841 - val_loss: 0.6401 - val_accuracy: 0.6393\n",
            "Epoch 21/50\n",
            "25/25 [==============================] - 0s 4ms/step - loss: 0.6154 - accuracy: 0.6439 - val_loss: 0.5653 - val_accuracy: 0.7541\n",
            "Epoch 22/50\n",
            "25/25 [==============================] - 0s 4ms/step - loss: 0.5467 - accuracy: 0.7008 - val_loss: 0.5637 - val_accuracy: 0.6885\n",
            "Epoch 23/50\n",
            "25/25 [==============================] - 0s 4ms/step - loss: 0.5920 - accuracy: 0.7194 - val_loss: 0.6154 - val_accuracy: 0.6393\n",
            "Epoch 24/50\n",
            "25/25 [==============================] - 0s 4ms/step - loss: 0.5425 - accuracy: 0.7154 - val_loss: 0.5546 - val_accuracy: 0.7705\n",
            "Epoch 25/50\n",
            "25/25 [==============================] - 0s 4ms/step - loss: 0.5598 - accuracy: 0.7206 - val_loss: 0.6141 - val_accuracy: 0.6393\n",
            "Epoch 26/50\n",
            "25/25 [==============================] - 0s 4ms/step - loss: 0.4958 - accuracy: 0.7625 - val_loss: 0.5430 - val_accuracy: 0.7213\n",
            "Epoch 27/50\n",
            "25/25 [==============================] - 0s 4ms/step - loss: 0.5038 - accuracy: 0.7435 - val_loss: 0.5595 - val_accuracy: 0.7213\n",
            "Epoch 28/50\n",
            "25/25 [==============================] - 0s 4ms/step - loss: 0.5250 - accuracy: 0.7451 - val_loss: 0.5323 - val_accuracy: 0.7213\n",
            "Epoch 29/50\n",
            "25/25 [==============================] - 0s 5ms/step - loss: 0.5491 - accuracy: 0.6945 - val_loss: 0.5311 - val_accuracy: 0.7705\n",
            "Epoch 30/50\n",
            "25/25 [==============================] - 0s 4ms/step - loss: 0.5256 - accuracy: 0.7738 - val_loss: 0.6969 - val_accuracy: 0.5738\n",
            "Epoch 31/50\n",
            "25/25 [==============================] - 0s 4ms/step - loss: 0.5538 - accuracy: 0.7481 - val_loss: 0.5777 - val_accuracy: 0.6721\n",
            "Epoch 32/50\n",
            "25/25 [==============================] - 0s 4ms/step - loss: 0.5062 - accuracy: 0.7369 - val_loss: 0.5193 - val_accuracy: 0.7377\n",
            "Epoch 33/50\n",
            "25/25 [==============================] - 0s 4ms/step - loss: 0.5131 - accuracy: 0.7831 - val_loss: 0.5426 - val_accuracy: 0.7213\n",
            "Epoch 34/50\n",
            "25/25 [==============================] - 0s 4ms/step - loss: 0.5212 - accuracy: 0.7164 - val_loss: 0.5545 - val_accuracy: 0.6721\n",
            "Epoch 35/50\n",
            "25/25 [==============================] - 0s 4ms/step - loss: 0.5478 - accuracy: 0.7355 - val_loss: 0.5353 - val_accuracy: 0.7705\n",
            "Epoch 36/50\n",
            "25/25 [==============================] - 0s 4ms/step - loss: 0.5643 - accuracy: 0.7329 - val_loss: 0.5704 - val_accuracy: 0.7869\n",
            "Epoch 37/50\n",
            "25/25 [==============================] - 0s 4ms/step - loss: 0.5235 - accuracy: 0.7712 - val_loss: 0.5248 - val_accuracy: 0.7049\n",
            "Epoch 38/50\n",
            "25/25 [==============================] - 0s 9ms/step - loss: 0.5780 - accuracy: 0.7473 - val_loss: 0.7322 - val_accuracy: 0.5902\n",
            "Epoch 39/50\n",
            "25/25 [==============================] - 0s 4ms/step - loss: 0.5778 - accuracy: 0.7092 - val_loss: 0.5236 - val_accuracy: 0.7869\n",
            "Epoch 40/50\n",
            "25/25 [==============================] - 0s 4ms/step - loss: 0.4856 - accuracy: 0.7920 - val_loss: 0.5047 - val_accuracy: 0.7377\n",
            "Epoch 41/50\n",
            "25/25 [==============================] - 0s 4ms/step - loss: 0.4932 - accuracy: 0.7623 - val_loss: 0.5233 - val_accuracy: 0.7869\n",
            "Epoch 42/50\n",
            "25/25 [==============================] - 0s 4ms/step - loss: 0.5074 - accuracy: 0.7886 - val_loss: 0.5062 - val_accuracy: 0.7541\n",
            "Epoch 43/50\n",
            "25/25 [==============================] - 0s 4ms/step - loss: 0.5339 - accuracy: 0.7701 - val_loss: 0.5047 - val_accuracy: 0.7869\n",
            "Epoch 44/50\n",
            "25/25 [==============================] - 0s 4ms/step - loss: 0.4822 - accuracy: 0.7789 - val_loss: 0.5157 - val_accuracy: 0.7213\n",
            "Epoch 45/50\n",
            "25/25 [==============================] - 0s 4ms/step - loss: 0.5214 - accuracy: 0.7104 - val_loss: 0.4853 - val_accuracy: 0.7705\n",
            "Epoch 46/50\n",
            "25/25 [==============================] - 0s 4ms/step - loss: 0.5418 - accuracy: 0.7494 - val_loss: 0.5303 - val_accuracy: 0.7705\n",
            "Epoch 47/50\n",
            "25/25 [==============================] - 0s 4ms/step - loss: 0.5144 - accuracy: 0.7646 - val_loss: 0.4966 - val_accuracy: 0.7541\n",
            "Epoch 48/50\n",
            "25/25 [==============================] - 0s 4ms/step - loss: 0.4695 - accuracy: 0.7756 - val_loss: 0.4883 - val_accuracy: 0.7049\n",
            "Epoch 49/50\n",
            "25/25 [==============================] - 0s 4ms/step - loss: 0.4876 - accuracy: 0.7765 - val_loss: 0.4876 - val_accuracy: 0.7869\n",
            "Epoch 50/50\n",
            "25/25 [==============================] - 0s 4ms/step - loss: 0.4892 - accuracy: 0.7946 - val_loss: 0.5138 - val_accuracy: 0.7705\n"
          ],
          "name": "stdout"
        }
      ]
    },
    {
      "cell_type": "code",
      "metadata": {
        "id": "qpfDgBI6EA_m"
      },
      "source": [
        "model = Sequential()\r\n",
        "model.add(Dense(16, input_shape=[13], kernel_initializer='normal', kernel_regularizer=regularizers.l2(0.001), activation='relu'))\r\n",
        "model.add(Dropout(0.25))\r\n",
        "model.add(Dense(8,kernel_initializer='normal', kernel_regularizer=regularizers.l2(0.001), activation='relu'))\r\n",
        "model.add(Dropout(0.25))\r\n",
        "model.add(Dense(2, activation='softmax'))"
      ],
      "execution_count": null,
      "outputs": []
    },
    {
      "cell_type": "code",
      "metadata": {
        "id": "gcBTntiyESqi"
      },
      "source": [
        "#Compile model\r\n",
        "adam = Adam(lr=0.001)\r\n",
        "model.compile(loss='categorical_crossentropy', optimizer='rmsprop', metrics=['accuracy'])"
      ],
      "execution_count": null,
      "outputs": []
    },
    {
      "cell_type": "code",
      "metadata": {
        "id": "adwOwm1TEb3A",
        "colab": {
          "base_uri": "https://localhost:8080/"
        },
        "outputId": "05d9c38e-079a-432f-f61d-e007c9881d45"
      },
      "source": [
        "print(model.summary())"
      ],
      "execution_count": null,
      "outputs": [
        {
          "output_type": "stream",
          "text": [
            "Model: \"sequential_3\"\n",
            "_________________________________________________________________\n",
            "Layer (type)                 Output Shape              Param #   \n",
            "=================================================================\n",
            "dense_9 (Dense)              (None, 16)                224       \n",
            "_________________________________________________________________\n",
            "dropout_4 (Dropout)          (None, 16)                0         \n",
            "_________________________________________________________________\n",
            "dense_10 (Dense)             (None, 8)                 136       \n",
            "_________________________________________________________________\n",
            "dropout_5 (Dropout)          (None, 8)                 0         \n",
            "_________________________________________________________________\n",
            "dense_11 (Dense)             (None, 2)                 18        \n",
            "=================================================================\n",
            "Total params: 378\n",
            "Trainable params: 378\n",
            "Non-trainable params: 0\n",
            "_________________________________________________________________\n",
            "None\n"
          ],
          "name": "stdout"
        }
      ]
    }
  ]
}